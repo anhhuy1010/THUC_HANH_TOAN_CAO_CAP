{
  "nbformat": 4,
  "nbformat_minor": 0,
  "metadata": {
    "colab": {
      "name": "bai1",
      "provenance": [],
      "authorship_tag": "ABX9TyNFiz5J3n7caHXtoliUp2hx",
      "include_colab_link": true
    },
    "kernelspec": {
      "name": "python3",
      "display_name": "Python 3"
    },
    "language_info": {
      "name": "python"
    }
  },
  "cells": [
    {
      "cell_type": "markdown",
      "metadata": {
        "id": "view-in-github",
        "colab_type": "text"
      },
      "source": [
        "<a href=\"https://colab.research.google.com/github/anhhuy1010/THUC_HANH_TOAN_CAO_CAP/blob/main/bai1.ipynb\" target=\"_parent\"><img src=\"https://colab.research.google.com/assets/colab-badge.svg\" alt=\"Open In Colab\"/></a>"
      ]
    },
    {
      "cell_type": "markdown",
      "source": [
        ""
      ],
      "metadata": {
        "id": "bMiC9KeRLutT"
      }
    },
    {
      "cell_type": "markdown",
      "source": [
        "# bài tập thực hành\n",
        "\n"
      ],
      "metadata": {
        "id": "z-uO1-a9LzFR"
      }
    },
    {
      "cell_type": "markdown",
      "source": [
        "--------------------------------bài 1------------------------------\n"
      ],
      "metadata": {
        "id": "vBC4C0YgPQ5I"
      }
    },
    {
      "cell_type": "code",
      "source": [
        "from sympy.functions.special.error_functions import TrigonometricIntegral\n",
        "n = 10000\n",
        "day = [1/2**n for n in range(0,n)]\n",
        "tong = sum(day)\n",
        "print(tong)\n",
        "           "
      ],
      "metadata": {
        "colab": {
          "base_uri": "https://localhost:8080/"
        },
        "id": "TYk42prCPTXf",
        "outputId": "60d4777f-3743-4a10-885f-18d8ab4f750b"
      },
      "execution_count": null,
      "outputs": [
        {
          "output_type": "stream",
          "name": "stdout",
          "text": [
            "2.0\n"
          ]
        }
      ]
    },
    {
      "cell_type": "markdown",
      "source": [
        "------------------------bài 2----------------------------\n"
      ],
      "metadata": {
        "id": "PDwLIRJXL4zW"
      }
    },
    {
      "cell_type": "code",
      "source": [
        "n = 10000\n",
        "\n",
        "X = [(2-0)*k/n for k in range(0, n+1)]\n",
        "S = 0\n",
        "\n",
        "for k in range(1, n + 1):\n",
        "\n",
        "  S = S + X[k]**2 * (X[k] - X[k-1])\n",
        "\n",
        "print (S)"
      ],
      "metadata": {
        "colab": {
          "base_uri": "https://localhost:8080/"
        },
        "id": "AspH6XzRL7Iy",
        "outputId": "0a66a0ea-aa66-435c-dd9a-f58dad8d7b60"
      },
      "execution_count": null,
      "outputs": [
        {
          "output_type": "stream",
          "name": "stdout",
          "text": [
            "2.667066679999994\n"
          ]
        }
      ]
    },
    {
      "cell_type": "markdown",
      "source": [
        "------------------------------bài 3---------------------------------"
      ],
      "metadata": {
        "id": "UCGrDppOQKXq"
      }
    },
    {
      "cell_type": "code",
      "source": [
        "Rational(1,2) + Rational(1,3)\n"
      ],
      "metadata": {
        "colab": {
          "base_uri": "https://localhost:8080/",
          "height": 51
        },
        "id": "JEdVNlBeQQNM",
        "outputId": "7c290856-6018-4210-865f-669aea0be075"
      },
      "execution_count": null,
      "outputs": [
        {
          "output_type": "execute_result",
          "data": {
            "text/latex": "$\\displaystyle \\frac{5}{6}$",
            "text/plain": [
              "5/6"
            ]
          },
          "metadata": {},
          "execution_count": 11
        }
      ]
    },
    {
      "cell_type": "code",
      "source": [
        "Rational(1,2)+1"
      ],
      "metadata": {
        "colab": {
          "base_uri": "https://localhost:8080/",
          "height": 51
        },
        "id": "k6Aff8-JQ4RL",
        "outputId": "cbcbfa6d-1038-4160-86d0-96d4f5e61243"
      },
      "execution_count": null,
      "outputs": [
        {
          "output_type": "execute_result",
          "data": {
            "text/latex": "$\\displaystyle \\frac{3}{2}$",
            "text/plain": [
              "3/2"
            ]
          },
          "metadata": {},
          "execution_count": 12
        }
      ]
    },
    {
      "cell_type": "code",
      "source": [
        "Rational(1,3)+1+1.5"
      ],
      "metadata": {
        "colab": {
          "base_uri": "https://localhost:8080/",
          "height": 37
        },
        "id": "qlN83CvdQ6wV",
        "outputId": "85a53522-85d4-4f5e-af4d-f827141f7aba"
      },
      "execution_count": null,
      "outputs": [
        {
          "output_type": "execute_result",
          "data": {
            "text/latex": "$\\displaystyle 2.83333333333333$",
            "text/plain": [
              "2.83333333333333"
            ]
          },
          "metadata": {},
          "execution_count": 16
        }
      ]
    },
    {
      "cell_type": "markdown",
      "source": [
        "------------------------------bài 4---------------------------"
      ],
      "metadata": {
        "id": "WWU7GrzLRMV6"
      }
    },
    {
      "cell_type": "code",
      "source": [
        "from sympy import *\n",
        "oo"
      ],
      "metadata": {
        "colab": {
          "base_uri": "https://localhost:8080/",
          "height": 37
        },
        "id": "g4I-e0_BRUrG",
        "outputId": "ac8b9862-4ba4-4f7e-b2a6-23d4bc794095"
      },
      "execution_count": null,
      "outputs": [
        {
          "output_type": "execute_result",
          "data": {
            "text/latex": "$\\displaystyle \\infty$",
            "text/plain": [
              "oo"
            ]
          },
          "metadata": {},
          "execution_count": 17
        }
      ]
    },
    {
      "cell_type": "markdown",
      "source": [
        "-------------------------------bài 5----------------------------"
      ],
      "metadata": {
        "id": "HPeoh3o9Rfyn"
      }
    },
    {
      "cell_type": "markdown",
      "source": [
        "a"
      ],
      "metadata": {
        "id": "QLf9PAwOU4VJ"
      }
    },
    {
      "cell_type": "code",
      "source": [
        "from sympy.solvers.solvers import denoms\n",
        "from sympy import *\n",
        "x = Symbol('x')\n",
        "eq = (1/x)*(1/(x-3))\n",
        "dd = denoms(eq)\n",
        "print(dd)"
      ],
      "metadata": {
        "colab": {
          "base_uri": "https://localhost:8080/"
        },
        "id": "W4b6Y3jrRg7X",
        "outputId": "88e962ca-bf8d-4d14-9f71-869e0a0f10aa"
      },
      "execution_count": null,
      "outputs": [
        {
          "output_type": "stream",
          "name": "stdout",
          "text": [
            "{x - 3, x}\n"
          ]
        }
      ]
    },
    {
      "cell_type": "markdown",
      "source": [
        "b"
      ],
      "metadata": {
        "id": "HYND-0lEU7Fq"
      }
    },
    {
      "cell_type": "code",
      "source": [
        "eq = (1+1/x)/(x-1)\n",
        "from sympy.solvers.solvers import denoms\n",
        "loaitru =set()\n",
        "for d in denoms(eq):\n",
        "  for s in solve(d):\n",
        "    loaitru.add(s)\n",
        "print(loaitru)"
      ],
      "metadata": {
        "colab": {
          "base_uri": "https://localhost:8080/"
        },
        "id": "qaf5nUDMTSIz",
        "outputId": "44e5aded-65ee-4e85-9f52-915d2c6a1da1"
      },
      "execution_count": null,
      "outputs": [
        {
          "output_type": "stream",
          "name": "stdout",
          "text": [
            "{0, 1}\n"
          ]
        }
      ]
    },
    {
      "cell_type": "markdown",
      "source": [
        "-----------------------------bài 6--------------------------------"
      ],
      "metadata": {
        "id": "S8dolgW1Uj38"
      }
    },
    {
      "cell_type": "code",
      "source": [
        "from sympy import Symbol \n",
        "x= Symbol('x',positive = True )\n",
        "if (x+3)>0:\n",
        "  print('Chắc chắn x+3 dương!')\n",
        "else:\n",
        "  print('x+3 chưa chắc dương')"
      ],
      "metadata": {
        "colab": {
          "base_uri": "https://localhost:8080/"
        },
        "id": "fUyreTDwUlL_",
        "outputId": "07eedf53-772b-481d-f1d1-40af1e9a590e"
      },
      "execution_count": null,
      "outputs": [
        {
          "output_type": "stream",
          "name": "stdout",
          "text": [
            "Chắc chắn x+3 dương!\n"
          ]
        }
      ]
    },
    {
      "cell_type": "markdown",
      "source": [
        "------------------------------bài 7------------------------------"
      ],
      "metadata": {
        "id": "dL1Rw6j1NLBq"
      }
    },
    {
      "cell_type": "code",
      "source": [
        "import math\n",
        "math.sin(math.pi/2)\n"
      ],
      "metadata": {
        "colab": {
          "base_uri": "https://localhost:8080/"
        },
        "id": "zJlZy9QFNM3w",
        "outputId": "32f2b9eb-e068-46ef-b094-365b5923865f"
      },
      "execution_count": 1,
      "outputs": [
        {
          "output_type": "execute_result",
          "data": {
            "text/plain": [
              "1.0"
            ]
          },
          "metadata": {},
          "execution_count": 1
        }
      ]
    },
    {
      "cell_type": "code",
      "source": [
        "import sympy\n",
        "sympy.sin(math.pi/2)\n"
      ],
      "metadata": {
        "colab": {
          "base_uri": "https://localhost:8080/",
          "height": 37
        },
        "id": "gGnXVcMeNiqI",
        "outputId": "6900966a-fb10-4e88-8e13-434bcd199f46"
      },
      "execution_count": 2,
      "outputs": [
        {
          "output_type": "execute_result",
          "data": {
            "text/latex": "$\\displaystyle 1.0$",
            "text/plain": [
              "1.00000000000000"
            ]
          },
          "metadata": {},
          "execution_count": 2
        }
      ]
    },
    {
      "cell_type": "code",
      "source": [
        "\n",
        "import sympy\n",
        "goctheta = Symbol('theta')\n",
        "sympy.sin(goctheta) + sympy.sin(goctheta)\n",
        "2*sympy.sin(goctheta) == sympy.sin(goctheta) + sympy.sin(goctheta)\n"
      ],
      "metadata": {
        "colab": {
          "base_uri": "https://localhost:8080/"
        },
        "id": "YQ_mUr2POyfC",
        "outputId": "f750b6c3-0198-4d31-d752-cad5b56efa25"
      },
      "execution_count": 10,
      "outputs": [
        {
          "output_type": "execute_result",
          "data": {
            "text/plain": [
              "True"
            ]
          },
          "metadata": {},
          "execution_count": 10
        }
      ]
    },
    {
      "cell_type": "code",
      "source": [
        "import sympy\n",
        "goctheta = Symbol('theta')\n",
        "(2*sympy.sin(goctheta)*sympy.cos(goctheta)).equals(sympy.sin(2*goctheta))"
      ],
      "metadata": {
        "colab": {
          "base_uri": "https://localhost:8080/"
        },
        "id": "R3vrFQHqRUk0",
        "outputId": "92e83035-629b-4ebc-98b4-cd4d4f70ad24"
      },
      "execution_count": 11,
      "outputs": [
        {
          "output_type": "execute_result",
          "data": {
            "text/plain": [
              "True"
            ]
          },
          "metadata": {},
          "execution_count": 11
        }
      ]
    },
    {
      "cell_type": "markdown",
      "source": [
        "-------------------------------bài 8---------------------------------"
      ],
      "metadata": {
        "id": "NHd1YQv8Rwfr"
      }
    },
    {
      "cell_type": "code",
      "source": [
        "from sympy import sin, solve, Symbol\n",
        "u = Symbol('u')\n",
        "t = Symbol('t')\n",
        "g = Symbol('g')\n",
        "theta = Symbol('theta')\n",
        "solve(u*sin(theta)-g*t, t)\n",
        "\n"
      ],
      "metadata": {
        "colab": {
          "base_uri": "https://localhost:8080/"
        },
        "id": "DhUlq_svRxtS",
        "outputId": "1b561ca1-79d8-4c14-a57a-ee7d28d66c56"
      },
      "execution_count": 13,
      "outputs": [
        {
          "output_type": "execute_result",
          "data": {
            "text/plain": [
              "[u*sin(theta)/g]"
            ]
          },
          "metadata": {},
          "execution_count": 13
        }
      ]
    },
    {
      "cell_type": "markdown",
      "source": [
        "--------------------------------bài 9--------------------------------- "
      ],
      "metadata": {
        "id": "qluwinB5SsDo"
      }
    },
    {
      "cell_type": "code",
      "source": [
        "from sympy import Limit, Symbol, S\n",
        "x = Symbol('x')\n",
        "Limit(1/x, x, S.Infinity)\n",
        "\n"
      ],
      "metadata": {
        "colab": {
          "base_uri": "https://localhost:8080/",
          "height": 51
        },
        "id": "4qZ8CKaySuDh",
        "outputId": "255bee28-1c0c-425b-bb70-e497cf66c862"
      },
      "execution_count": 18,
      "outputs": [
        {
          "output_type": "execute_result",
          "data": {
            "text/latex": "$\\displaystyle \\lim_{x \\to \\infty} \\frac{1}{x}$",
            "text/plain": [
              "Limit(1/x, x, oo, dir='-')"
            ]
          },
          "metadata": {},
          "execution_count": 18
        }
      ]
    },
    {
      "cell_type": "code",
      "source": [
        "from sympy import Limit, Symbol, S\n",
        "gioihan = Limit(1/x, x, S.Infinity)\n",
        "gioihan.doit()"
      ],
      "metadata": {
        "colab": {
          "base_uri": "https://localhost:8080/",
          "height": 37
        },
        "id": "Q5SE_qyXTVQl",
        "outputId": "d370ec52-faf2-42b4-9cbe-f96c810ab5fa"
      },
      "execution_count": 17,
      "outputs": [
        {
          "output_type": "execute_result",
          "data": {
            "text/latex": "$\\displaystyle 0$",
            "text/plain": [
              "0"
            ]
          },
          "metadata": {},
          "execution_count": 17
        }
      ]
    },
    {
      "cell_type": "markdown",
      "source": [
        "--------------------------------bài 10-------------------------------"
      ],
      "metadata": {
        "id": "zNl39I9eTejy"
      }
    },
    {
      "cell_type": "markdown",
      "source": [
        "a"
      ],
      "metadata": {
        "id": "nkjcyZaqTf8w"
      }
    },
    {
      "cell_type": "code",
      "source": [
        "from sympy import Limit\n",
        "Limit(1/x, x, 0, dir='-').doit()\n"
      ],
      "metadata": {
        "colab": {
          "base_uri": "https://localhost:8080/",
          "height": 37
        },
        "id": "E1YtBnFeThCH",
        "outputId": "da955f15-fb7b-49d1-f090-56d86a2088ad"
      },
      "execution_count": 19,
      "outputs": [
        {
          "output_type": "execute_result",
          "data": {
            "text/latex": "$\\displaystyle -\\infty$",
            "text/plain": [
              "-oo"
            ]
          },
          "metadata": {},
          "execution_count": 19
        }
      ]
    },
    {
      "cell_type": "code",
      "source": [
        "from sympy import Limit\n",
        "Limit(1/x, x, 0, dir='+').doit()"
      ],
      "metadata": {
        "colab": {
          "base_uri": "https://localhost:8080/",
          "height": 37
        },
        "id": "M92yLNBaT1AA",
        "outputId": "f864fcfb-c8f4-4bc8-8e88-ebee47c03fff"
      },
      "execution_count": 20,
      "outputs": [
        {
          "output_type": "execute_result",
          "data": {
            "text/latex": "$\\displaystyle \\infty$",
            "text/plain": [
              "oo"
            ]
          },
          "metadata": {},
          "execution_count": 20
        }
      ]
    },
    {
      "cell_type": "markdown",
      "source": [
        "b"
      ],
      "metadata": {
        "id": "TmUSVy4AUFC5"
      }
    },
    {
      "cell_type": "code",
      "source": [
        "from sympy import Symbol, sin\n",
        "Limit(sin(x)/x, x, 0,).doit()"
      ],
      "metadata": {
        "colab": {
          "base_uri": "https://localhost:8080/",
          "height": 37
        },
        "id": "6zQdQUbNUFu3",
        "outputId": "edf0eddb-f644-42fd-db2a-80e6eba34e89"
      },
      "execution_count": 21,
      "outputs": [
        {
          "output_type": "execute_result",
          "data": {
            "text/latex": "$\\displaystyle 1$",
            "text/plain": [
              "1"
            ]
          },
          "metadata": {},
          "execution_count": 21
        }
      ]
    },
    {
      "cell_type": "markdown",
      "source": [
        "---------------------------------bài 11-----------------------------------"
      ],
      "metadata": {
        "id": "jj3YMxBjUgFE"
      }
    },
    {
      "cell_type": "markdown",
      "source": [
        "a"
      ],
      "metadata": {
        "id": "RkytAFPlUhlU"
      }
    },
    {
      "cell_type": "code",
      "source": [
        ""
      ],
      "metadata": {
        "id": "7LbpnCtGUiTn"
      },
      "execution_count": null,
      "outputs": []
    }
  ]
}