{
  "nbformat": 4,
  "nbformat_minor": 0,
  "metadata": {
    "colab": {
      "name": "bai1",
      "provenance": [],
      "authorship_tag": "ABX9TyMr9jq0gOLadBnm6dUILCuB",
      "include_colab_link": true
    },
    "kernelspec": {
      "name": "python3",
      "display_name": "Python 3"
    },
    "language_info": {
      "name": "python"
    }
  },
  "cells": [
    {
      "cell_type": "markdown",
      "metadata": {
        "id": "view-in-github",
        "colab_type": "text"
      },
      "source": [
        "<a href=\"https://colab.research.google.com/github/anhhuy1010/th-c-h-nh-to-n-cao-c-p/blob/main/bai1.ipynb\" target=\"_parent\"><img src=\"https://colab.research.google.com/assets/colab-badge.svg\" alt=\"Open In Colab\"/></a>"
      ]
    },
    {
      "cell_type": "markdown",
      "source": [
        ""
      ],
      "metadata": {
        "id": "bMiC9KeRLutT"
      }
    },
    {
      "cell_type": "markdown",
      "source": [
        "# bài tập thực hành\n",
        "\n"
      ],
      "metadata": {
        "id": "z-uO1-a9LzFR"
      }
    },
    {
      "cell_type": "markdown",
      "source": [
        "bài 1\n"
      ],
      "metadata": {
        "id": "vBC4C0YgPQ5I"
      }
    },
    {
      "cell_type": "code",
      "source": [
        "from sympy.functions.special.error_functions import TrigonometricIntegral\n",
        "n = 10000\n",
        "day = [1/2**n for n in range(0,n)]\n",
        "tong = sum(day)\n",
        "print(tong)\n",
        "           "
      ],
      "metadata": {
        "colab": {
          "base_uri": "https://localhost:8080/"
        },
        "id": "TYk42prCPTXf",
        "outputId": "d4e3b82b-3900-44b2-87f9-e655aaae67d6"
      },
      "execution_count": 7,
      "outputs": [
        {
          "output_type": "stream",
          "name": "stdout",
          "text": [
            "2.0\n"
          ]
        }
      ]
    },
    {
      "cell_type": "markdown",
      "source": [
        "bài 2\n"
      ],
      "metadata": {
        "id": "PDwLIRJXL4zW"
      }
    },
    {
      "cell_type": "code",
      "source": [
        "n = 10000\n",
        "\n",
        "X = [(2-0)*k/n for k in range(0, n+1)]\n",
        "S = 0\n",
        "\n",
        "for k in range(1, n + 1):\n",
        "\n",
        "  S = S + X[k]**2 * (X[k] - X[k-1])\n",
        "\n",
        "print (S)"
      ],
      "metadata": {
        "colab": {
          "base_uri": "https://localhost:8080/"
        },
        "id": "AspH6XzRL7Iy",
        "outputId": "474685d3-931d-4510-ebee-377480adacaf"
      },
      "execution_count": 4,
      "outputs": [
        {
          "output_type": "stream",
          "name": "stdout",
          "text": [
            "2.667066679999994\n"
          ]
        }
      ]
    },
    {
      "cell_type": "markdown",
      "source": [
        "bài 3"
      ],
      "metadata": {
        "id": "UCGrDppOQKXq"
      }
    },
    {
      "cell_type": "code",
      "source": [
        "Rational(1,2) + Rational(1,3)\n"
      ],
      "metadata": {
        "colab": {
          "base_uri": "https://localhost:8080/",
          "height": 51
        },
        "id": "JEdVNlBeQQNM",
        "outputId": "7c290856-6018-4210-865f-669aea0be075"
      },
      "execution_count": 11,
      "outputs": [
        {
          "output_type": "execute_result",
          "data": {
            "text/latex": "$\\displaystyle \\frac{5}{6}$",
            "text/plain": [
              "5/6"
            ]
          },
          "metadata": {},
          "execution_count": 11
        }
      ]
    },
    {
      "cell_type": "code",
      "source": [
        "Rational(1,2)+1"
      ],
      "metadata": {
        "colab": {
          "base_uri": "https://localhost:8080/",
          "height": 51
        },
        "id": "k6Aff8-JQ4RL",
        "outputId": "cbcbfa6d-1038-4160-86d0-96d4f5e61243"
      },
      "execution_count": 12,
      "outputs": [
        {
          "output_type": "execute_result",
          "data": {
            "text/latex": "$\\displaystyle \\frac{3}{2}$",
            "text/plain": [
              "3/2"
            ]
          },
          "metadata": {},
          "execution_count": 12
        }
      ]
    },
    {
      "cell_type": "code",
      "source": [
        "Rational(1,3)+1+1.5"
      ],
      "metadata": {
        "colab": {
          "base_uri": "https://localhost:8080/",
          "height": 37
        },
        "id": "qlN83CvdQ6wV",
        "outputId": "85a53522-85d4-4f5e-af4d-f827141f7aba"
      },
      "execution_count": 16,
      "outputs": [
        {
          "output_type": "execute_result",
          "data": {
            "text/latex": "$\\displaystyle 2.83333333333333$",
            "text/plain": [
              "2.83333333333333"
            ]
          },
          "metadata": {},
          "execution_count": 16
        }
      ]
    },
    {
      "cell_type": "markdown",
      "source": [
        "bài 4"
      ],
      "metadata": {
        "id": "WWU7GrzLRMV6"
      }
    },
    {
      "cell_type": "code",
      "source": [
        "from sympy import *\n",
        "oo"
      ],
      "metadata": {
        "colab": {
          "base_uri": "https://localhost:8080/",
          "height": 37
        },
        "id": "g4I-e0_BRUrG",
        "outputId": "ac8b9862-4ba4-4f7e-b2a6-23d4bc794095"
      },
      "execution_count": 17,
      "outputs": [
        {
          "output_type": "execute_result",
          "data": {
            "text/latex": "$\\displaystyle \\infty$",
            "text/plain": [
              "oo"
            ]
          },
          "metadata": {},
          "execution_count": 17
        }
      ]
    },
    {
      "cell_type": "markdown",
      "source": [
        "bài 5"
      ],
      "metadata": {
        "id": "HPeoh3o9Rfyn"
      }
    },
    {
      "cell_type": "code",
      "source": [
        "from sympy.solvers.solvers import denoms\n",
        "from sympy import *\n",
        "x = Symbol('x')\n",
        "eq = (1/x)*(1/(x-3))\n",
        "dd = denoms(eq)\n",
        "print(dd)"
      ],
      "metadata": {
        "colab": {
          "base_uri": "https://localhost:8080/"
        },
        "id": "W4b6Y3jrRg7X",
        "outputId": "88e962ca-bf8d-4d14-9f71-869e0a0f10aa"
      },
      "execution_count": 22,
      "outputs": [
        {
          "output_type": "stream",
          "name": "stdout",
          "text": [
            "{x - 3, x}\n"
          ]
        }
      ]
    },
    {
      "cell_type": "code",
      "source": [
        "eq = (1+1/x)/(x-1)\n",
        "from sympy.solvers.solvers import denoms\n",
        "loaitru =set()\n",
        "for d in denoms(eq):\n",
        "  for s in solve(d):\n",
        "    loaitru.add(s)\n",
        "print(loaitru)"
      ],
      "metadata": {
        "colab": {
          "base_uri": "https://localhost:8080/"
        },
        "id": "qaf5nUDMTSIz",
        "outputId": "44e5aded-65ee-4e85-9f52-915d2c6a1da1"
      },
      "execution_count": 34,
      "outputs": [
        {
          "output_type": "stream",
          "name": "stdout",
          "text": [
            "{0, 1}\n"
          ]
        }
      ]
    },
    {
      "cell_type": "markdown",
      "source": [
        "bài 6"
      ],
      "metadata": {
        "id": "S8dolgW1Uj38"
      }
    },
    {
      "cell_type": "code",
      "source": [
        "from sympy import Symbol \n",
        "x= Symbol('x',positive = True )\n",
        "if (x+3)>0:\n",
        "  print('Chắc chắn x+3 dương!')\n",
        "else:\n",
        "  print('x+3 chưa chắc dương')"
      ],
      "metadata": {
        "colab": {
          "base_uri": "https://localhost:8080/"
        },
        "id": "fUyreTDwUlL_",
        "outputId": "07eedf53-772b-481d-f1d1-40af1e9a590e"
      },
      "execution_count": 35,
      "outputs": [
        {
          "output_type": "stream",
          "name": "stdout",
          "text": [
            "Chắc chắn x+3 dương!\n"
          ]
        }
      ]
    }
  ]
}