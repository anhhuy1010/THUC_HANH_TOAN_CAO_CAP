{
  "nbformat": 4,
  "nbformat_minor": 0,
  "metadata": {
    "colab": {
      "name": "bai1",
      "provenance": [],
      "authorship_tag": "ABX9TyM5t/xk9rDNUPPJxNTHCcff",
      "include_colab_link": true
    },
    "kernelspec": {
      "name": "python3",
      "display_name": "Python 3"
    },
    "language_info": {
      "name": "python"
    }
  },
  "cells": [
    {
      "cell_type": "markdown",
      "metadata": {
        "id": "view-in-github",
        "colab_type": "text"
      },
      "source": [
        "<a href=\"https://colab.research.google.com/github/anhhuy1010/th-c-h-nh-to-n-cao-c-p/blob/main/bai1.ipynb\" target=\"_parent\"><img src=\"https://colab.research.google.com/assets/colab-badge.svg\" alt=\"Open In Colab\"/></a>"
      ]
    },
    {
      "cell_type": "markdown",
      "source": [
        ""
      ],
      "metadata": {
        "id": "bMiC9KeRLutT"
      }
    },
    {
      "cell_type": "markdown",
      "source": [
        "# bài tập\n"
      ],
      "metadata": {
        "id": "z-uO1-a9LzFR"
      }
    },
    {
      "cell_type": "markdown",
      "source": [
        "bài 1\n"
      ],
      "metadata": {
        "id": "PDwLIRJXL4zW"
      }
    },
    {
      "cell_type": "code",
      "source": [
        "n = 10000\n",
        "\n",
        "X = [(2-0)*k/n for k in range(0, n+1)]\n",
        "S = 0\n",
        "\n",
        "for k in range(1, n + 1):\n",
        "\n",
        "  S = S + X[k]**2 * (X[k] - X[k-1])\n",
        "\n",
        "print (S)"
      ],
      "metadata": {
        "colab": {
          "base_uri": "https://localhost:8080/"
        },
        "id": "AspH6XzRL7Iy",
        "outputId": "474685d3-931d-4510-ebee-377480adacaf"
      },
      "execution_count": 4,
      "outputs": [
        {
          "output_type": "stream",
          "name": "stdout",
          "text": [
            "2.667066679999994\n"
          ]
        }
      ]
    }
  ]
}