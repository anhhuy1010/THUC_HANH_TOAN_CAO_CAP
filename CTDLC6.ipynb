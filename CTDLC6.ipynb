{
  "nbformat": 4,
  "nbformat_minor": 0,
  "metadata": {
    "colab": {
      "provenance": [],
      "authorship_tag": "ABX9TyOvHzba3X6uoOmZokxjlTAU",
      "include_colab_link": true
    },
    "kernelspec": {
      "name": "python3",
      "display_name": "Python 3"
    },
    "language_info": {
      "name": "python"
    }
  },
  "cells": [
    {
      "cell_type": "markdown",
      "metadata": {
        "id": "view-in-github",
        "colab_type": "text"
      },
      "source": [
        "<a href=\"https://colab.research.google.com/github/anhhuy1010/THUC_HANH_TOAN_CAO_CAP/blob/main/CTDLC6.ipynb\" target=\"_parent\"><img src=\"https://colab.research.google.com/assets/colab-badge.svg\" alt=\"Open In Colab\"/></a>"
      ]
    },
    {
      "cell_type": "markdown",
      "source": [
        "**thực hành 2.1**"
      ],
      "metadata": {
        "id": "z313qho34lgC"
      }
    },
    {
      "cell_type": "code",
      "execution_count": null,
      "metadata": {
        "colab": {
          "base_uri": "https://localhost:8080/"
        },
        "id": "HpG4pYp4w1D3",
        "outputId": "93e802d3-9f52-42cd-e145-a221edcac0d9"
      },
      "outputs": [
        {
          "output_type": "stream",
          "name": "stdout",
          "text": [
            "['data science', 'data analytics', 'data structures and algorithms', 'big data', 'learning data analytics']\n",
            "data science\n",
            "data analytics\n",
            "['data structures and algorithms', 'big data', 'learning data analytics']\n"
          ]
        }
      ],
      "source": [
        "myQueue = [] # gán myQueue bằng một list rỗng \n",
        "myQueue.append('data science') # thêm data science\n",
        "myQueue.append('data analytics')# thêm data analytics\n",
        "myQueue.append('data structures and algorithms')# them data structures and algorithms\n",
        "myQueue.append('big data')# thêm big data \n",
        "myQueue.append('learning data analytics')#thêm learning data analytics\n",
        "print(myQueue)# in danh sách myQueue\n",
        "print(myQueue.pop(0)) # in ra giá trị bị xóa ở vị trí đầu \n",
        "print(myQueue.pop(0))# in ra giá trị bị xóa ở vị trí đầu\n",
        "print(myQueue)# in ra danh sách myQueue mới"
      ]
    },
    {
      "cell_type": "markdown",
      "source": [
        "**input:**\n",
        "\n",
        " một danh sách rỗng\n",
        "\n",
        "**output:**\n",
        "\n",
        "['data science', 'data analytics', 'data structures and algorithms', 'big data', 'learning data analytics']( danh sách ban đầu)\n",
        "\n",
        "data science( phần tử bị xóa )\n",
        "\n",
        "data analytics( phần tử bị xóa )\n",
        "\n",
        "['data structures and algorithms', 'big data', 'learning data analytics'] ( danh sách mới )\n"
      ],
      "metadata": {
        "id": "tadpgAV84YcU"
      }
    },
    {
      "cell_type": "markdown",
      "source": [
        "**thực hành 2.2**"
      ],
      "metadata": {
        "id": "q4Za3s6z5AUy"
      }
    },
    {
      "cell_type": "code",
      "source": [
        "from collections import deque# từ thư viện collection gọi hàm deque\n",
        "q = deque() # gán biến q bằng một hàm deque rỗng\n",
        "q.append('data analytics') #thêm ata analytics\n",
        "q.append('data structures and algorithms')# thêm data structures and algorithms\n",
        "q.append('big data')# thêm big data\n",
        "q.append('learning data analytics')# learning data analytics\n",
        "print(q)# in danh sách q \n",
        "print(q.popleft()) # xóa phần tử ngoài cùng bên trái \n",
        "print(q.popleft())# xóa phần tử ngoài cùng bên trái \n",
        "print(q)# in danh sách q mới"
      ],
      "metadata": {
        "colab": {
          "base_uri": "https://localhost:8080/"
        },
        "id": "O2BngePf5B7-",
        "outputId": "9199a1ba-4c25-44d3-9d8d-6ce085209e3a"
      },
      "execution_count": null,
      "outputs": [
        {
          "output_type": "stream",
          "name": "stdout",
          "text": [
            "deque(['data analytics', 'data structures and algorithms', 'big data', 'learning data analytics'])\n",
            "data analytics\n",
            "data structures and algorithms\n",
            "deque(['big data', 'learning data analytics'])\n"
          ]
        }
      ]
    },
    {
      "cell_type": "markdown",
      "source": [
        "**input:**\n",
        "\n",
        "một dnah sách rỗng\n",
        "\n",
        "**output:**\n",
        "\n",
        "deque(['data analytics', 'data structures and algorithms', 'big data', 'learning data analytics']) ( danh sách ban đầu )\n",
        "\n",
        "data analytics( phần tử thứ nhất bị xóa )\n",
        "\n",
        "data structures and algorithms( phần tử thứ 2 bị xóa )\n",
        "\n",
        "deque(['big data', 'learning data analytics']) ( danh sách mới )"
      ],
      "metadata": {
        "id": "T63Etbwt5CyL"
      }
    },
    {
      "cell_type": "markdown",
      "source": [
        "**thực hành 2.3**"
      ],
      "metadata": {
        "id": "FmxcLZ8r5eYS"
      }
    },
    {
      "cell_type": "code",
      "source": [
        "from queue import Queue # từ thư viện queue gọi hàm hàng đợi Queue\n",
        "q = Queue(maxsize = 5) # gán biến q bằng hàm hàng đợi có độ dài lớn nhất là 5 \n",
        "print(q.qsize()) # in kích thước hiện tại của danh sách \n",
        "q.put('data analytics') # thêm data analytics\n",
        "q.put('data structures and algorithms')# data structures and algorithms\n",
        "q.put('big data')# thêm big data\n",
        "q.put('learning data analytics')# thêm learning data analytics\n",
        "print(q.qsize())# in kích thước hiện tại của danh sách\n",
        "print(q.get()) # lấy giá trị đầu \n",
        "print(q.get())# lấy giá trị đầu"
      ],
      "metadata": {
        "colab": {
          "base_uri": "https://localhost:8080/"
        },
        "id": "czv7my-_5h6Q",
        "outputId": "ae640951-0ea2-4d90-e73a-ed93f4d243f8"
      },
      "execution_count": null,
      "outputs": [
        {
          "output_type": "stream",
          "name": "stdout",
          "text": [
            "0\n",
            "4\n",
            "data analytics\n",
            "data structures and algorithms\n"
          ]
        }
      ]
    },
    {
      "cell_type": "markdown",
      "source": [
        "**input:**\n",
        "\n",
        "một danh sách rỗng với kích thước tối đa là 5\n",
        "\n",
        "**output:**\n",
        "\n",
        "0 ( kích thước ban đầu của danh sách )\n",
        "\n",
        "4 ( kích thước lúc sau của danh sách )\n",
        "\n",
        "data analytics (phần tử được lấy đầu)\n",
        "\n",
        "data structures and algorithms( phần tử được lấy tiếp theo )"
      ],
      "metadata": {
        "id": "2xJjtE_p5l8Y"
      }
    },
    {
      "cell_type": "markdown",
      "source": [
        "**CHƯƠNG 6**"
      ],
      "metadata": {
        "id": "D84bm7kK6wbw"
      }
    },
    {
      "cell_type": "markdown",
      "source": [
        "**thực hành 1**"
      ],
      "metadata": {
        "id": "5M-goOi96ysu"
      }
    },
    {
      "cell_type": "code",
      "source": [
        "def hash_key( key, m): # gọi hàm hash_key với hai biến key và m\n",
        "  return (key % m) # trả về giá trị chia lấy dư của key chia m \n",
        "m = 7# gán m bằng 7\n",
        "print(f'The hash value is {hash_key(15,m)}') # in ra một string \"The hash value is\" và phần dư 15/7\n",
        "print(f'The hash value is {hash_key(2,m)}')# in ra một string \"The hash value is\" và phần dư 2/7\n",
        "print(f'The hash value is {hash_key(3,m)}')# in ra một string \"The hash value is\" và phần dư 3/7\n",
        "print(f'The hash value is {hash_key(9,m)}')# in ra một string \"The hash value is\" và phần dư 9/7\n",
        "print(f'The hash value is {hash_key(11,m)}')# in ra một string \"The hash value is\" và phần dư 11/7\n",
        "print(f'The hash value is {hash_key(7,m)}')# in ra một string \"The hash value is\" và phần dư 7/7"
      ],
      "metadata": {
        "colab": {
          "base_uri": "https://localhost:8080/"
        },
        "id": "WW2Q6IS2609i",
        "outputId": "1dbd112b-d502-44ab-e583-e67c42221755"
      },
      "execution_count": null,
      "outputs": [
        {
          "output_type": "stream",
          "name": "stdout",
          "text": [
            "The hash value is 1\n",
            "The hash value is 2\n",
            "The hash value is 3\n",
            "The hash value is 2\n",
            "The hash value is 4\n",
            "The hash value is 0\n"
          ]
        }
      ]
    },
    {
      "cell_type": "markdown",
      "source": [
        "**input:**\n",
        "\n",
        "m =7\n",
        "\n",
        "key = 15,2,3,9,11,7\n",
        "\n",
        "**output:**\n",
        "\n",
        "số dư là 1\n",
        "\n",
        "số dư là 2\n",
        "\n",
        "số dư là 3\n",
        "\n",
        "số dư là 2\n",
        "\n",
        "số dư là 4\n",
        "\n",
        "số dư là 0"
      ],
      "metadata": {
        "id": "5cjp-bf-63B5"
      }
    },
    {
      "cell_type": "markdown",
      "source": [
        "**thực hành 2:**"
      ],
      "metadata": {
        "id": "hiS1biPW7nKl"
      }
    },
    {
      "cell_type": "code",
      "source": [
        "def display_hash(hashTable): # hàm display_hash với biến bảng băm\n",
        "  for i in range(len(hashTable)): # duyệt phần tử trong bẳng băm\n",
        "    print(i, end = \" \") #in i ra   \n",
        "    for j in hashTable[i]: # cho j chạy trong i\n",
        "      print(\"-->\", end = \" \") #in ra dấu '-->'\n",
        "      print(j, end = \" \") # in j ra\n",
        "\n",
        "    print() # in ra toàn bộ i \n",
        "HashTable = [[] for _ in range(10)] # bẳng băm có 10 phần tử\n",
        "def Hashing(keyvalue): # hàm hashing có biến là keyvalue\n",
        "  return (keyvalue % len(HashTable)) # trả lại kết quả bằng keyvalue% len(hashtable)\n",
        "def insert(Hashtable, keyvalue, value): # hàm insert có 3 giá trị là Hashtable, keyvalue, value\n",
        "  hash_key = Hashing(keyvalue) # gán hàm Hashing(keyvalue) vào hash_key\n",
        "  Hashtable[hash_key].append(value) # thêm giá trị vào bảng băm \n",
        "insert(HashTable, 10, 'MachineLearning') #thêm giá trị \n",
        "insert(HashTable, 45, 'DataScience') #thêm giá trị\n",
        "insert(HashTable, 20, 'DataAnalytics')#thêm giá trị\n",
        "insert(HashTable, 9, 'BigData')#thêm giá trị\n",
        "insert(HashTable, 21, 'DataStructure ')#thêm giá trị\n",
        "insert(HashTable, 41, 'IoT') #thêm giá trị\n",
        "insert(HashTable, 35, 'Probability') #thêm giá trị\n",
        "display_hash (HashTable) # in ra bẳng băm"
      ],
      "metadata": {
        "colab": {
          "base_uri": "https://localhost:8080/"
        },
        "id": "CQCCvJ-N7pdH",
        "outputId": "3288eea1-f46f-4b5f-86b2-84106855b4c8"
      },
      "execution_count": null,
      "outputs": [
        {
          "output_type": "stream",
          "name": "stdout",
          "text": [
            "0 --> MachineLearning --> DataAnalytics \n",
            "1 --> DataStructure  --> IoT \n",
            "2 \n",
            "3 \n",
            "4 \n",
            "5 --> DataScience --> Probability \n",
            "6 \n",
            "7 \n",
            "8 \n",
            "9 --> BigData \n"
          ]
        }
      ]
    },
    {
      "cell_type": "markdown",
      "source": [
        "**input**\n",
        "\n",
        "thêm các giá trị vào bẳng băm\n",
        "\n",
        "độ dài của phần tử là 10\n",
        "\n",
        " MachineLearning\n",
        "\n",
        " DataScience\n",
        "\n",
        " DataAnalytics\n",
        "\n",
        " BigData\n",
        "\n",
        " DataStructure\n",
        "\n",
        " IoT\n",
        "\n",
        " Probability\n",
        "\n",
        " **output**\n",
        "\n",
        "số dư bằng 0 --> MachineLearning --> DataAnalytics\n",
        "\n",
        "số dư bằng 1 --> DataStructure  --> IoT \n",
        "\n",
        "số dư bằng 2 \n",
        "\n",
        "số dư bằng 3 \n",
        "\n",
        " số dư bằng 4 \n",
        "\n",
        "số dư bằng 5 --> DataScience --> Probability \n",
        "số dư bằng 6 \n",
        "\n",
        " số dư bằng 7 \n",
        "\n",
        "số dư bằng 8 \n",
        "\n",
        "số dư bằng 9 --> BigData "
      ],
      "metadata": {
        "id": "gyCtejg6DhGe"
      }
    }
  ]
}