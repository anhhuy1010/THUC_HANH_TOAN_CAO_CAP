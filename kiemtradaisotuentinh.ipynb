{
  "nbformat": 4,
  "nbformat_minor": 0,
  "metadata": {
    "colab": {
      "provenance": [],
      "authorship_tag": "ABX9TyOZXjw4l9Ltk4Vqtd5pIOKm",
      "include_colab_link": true
    },
    "kernelspec": {
      "name": "python3",
      "display_name": "Python 3"
    },
    "language_info": {
      "name": "python"
    }
  },
  "cells": [
    {
      "cell_type": "markdown",
      "metadata": {
        "id": "view-in-github",
        "colab_type": "text"
      },
      "source": [
        "<a href=\"https://colab.research.google.com/github/anhhuy1010/THUC_HANH_TOAN_CAO_CAP/blob/main/kiemtradaisotuentinh.ipynb\" target=\"_parent\"><img src=\"https://colab.research.google.com/assets/colab-badge.svg\" alt=\"Open In Colab\"/></a>"
      ]
    },
    {
      "cell_type": "markdown",
      "source": [
        "# **TRẦN BẢO ANH HUY - 2174802010829**"
      ],
      "metadata": {
        "id": "DrLNd5BIMZbD"
      }
    },
    {
      "cell_type": "markdown",
      "source": [
        "CÂU 1:"
      ],
      "metadata": {
        "id": "ZrCPfzBiL3X9"
      }
    },
    {
      "cell_type": "markdown",
      "source": [
        "Bước 1:\n",
        "\n",
        " left = 0; right = n-1; //tìm kiếm tất cả các phần tử\n",
        "\n",
        "Bước 2:\n",
        "\n",
        "mid = (left+right)/2; //so sánh\n",
        "\n",
        "So sánh a[mid] với x, có 3 khả năng :\n",
        "\n",
        "• a[mid] = x: \n",
        "Tìm thấy. Dừng kết thúc.\n",
        "\n",
        "• a[mid] > x:\n",
        " tìm tiếp x trong dãy con aleft .. amid -1\n",
        "right =mid - 1;\n",
        "\n",
        "• a[mid] < x:\n",
        "tìm tiếp x trong dãy con amid +1\n",
        ".. aright\n",
        "left = mid + 1;\n",
        "\n",
        "Bước 3:\n",
        "Nếu left <= right \n",
        "\n",
        "còn phần tử chưa xét tìm tiếp\n",
        "Lặp lại Bước 2.\n",
        "\n",
        "Ngược lại: Dừng kết thúc.\n",
        " \n",
        "xét hết các phần tử trong mảng"
      ],
      "metadata": {
        "id": "E7hfMvR9NMi5"
      }
    },
    {
      "cell_type": "code",
      "execution_count": 14,
      "metadata": {
        "id": "i7zqFtWNLYQF"
      },
      "outputs": [],
      "source": [
        "import math # nhập hàm math \n",
        "def binary_search(arr, key): # tạo hàm binary_search với 2 biến arr và key \n",
        "  mid = 0 # gán mid bằng 0 \n",
        "  left = 0 \n",
        "  right = len(arr) -1\n",
        "  step = 0\n",
        "  while (left <= right): # loop while left bé hơn bằng right\n",
        "    step = step+1 # step bằng step + 1 \n",
        "    mid = (left + right) // 2 # mid bằng tổng left và right chia 2 lấy nguyên \n",
        "    if (key == arr[mid]): # nếu key bằng với sô ở vị trí mid trong arr \n",
        "      return mid # in ra vị trí đó \n",
        "    if (key < arr[mid]): # nếu key lớn hơn sô ở vị trí mid trong arr \n",
        "      right = mid - 1 # right bằng mid - 1\n",
        "    else:\n",
        "      left = mid + 1 # left bằng mid + 1\n",
        "  return -1 # in ra -1"
      ]
    },
    {
      "cell_type": "code",
      "source": [
        "arr = [12,5,7,8,14,17,24,29,45,48,55]\n",
        "key = 46\n",
        "result = binary_search(arr, key)\n",
        "print(\"Vị trí tìm kiếm thứ i:\", result)"
      ],
      "metadata": {
        "colab": {
          "base_uri": "https://localhost:8080/",
          "height": 0
        },
        "id": "ZuDjmMSxMj9l",
        "outputId": "27f6ac7c-e377-41a3-e11c-3c48ebce0284"
      },
      "execution_count": 13,
      "outputs": [
        {
          "output_type": "stream",
          "name": "stdout",
          "text": [
            "Vị trí tìm kiếm thứ i: -1\n"
          ]
        }
      ]
    },
    {
      "cell_type": "markdown",
      "source": [
        "input:\n",
        "\n",
        "arr = [12,5,7,8,14,17,24,29,45,48,55]\n",
        "\n",
        "key = 46\n",
        "\n",
        "output:\n",
        "\n",
        "Vi tri tim kiem thu i la: -1\n",
        "\n",
        "phần tử không có trong mảng arr[]\n"
      ],
      "metadata": {
        "id": "TA2U0ERXNtHo"
      }
    },
    {
      "cell_type": "markdown",
      "source": [
        "BÀI 2:"
      ],
      "metadata": {
        "id": "VaF8rfwCOFkf"
      }
    },
    {
      "cell_type": "markdown",
      "source": [
        "B.1:\n",
        "\n",
        "Gán i = 0\n",
        "\n",
        "B.2:\n",
        "\n",
        "Gán j = 0 //danh sách có n phần tử a0,a1,a2…,an-1\n",
        "\n",
        "B.3:\n",
        "\n",
        "Nếu A[j] > A[j + 1] thì Hoán đối chỗ giữa A[j] và A[j + 1]\n",
        "\n",
        "B.4: \n",
        "\n",
        "Nếu (j < n – i – 1):\n",
        "\n",
        "-Đúng thì j = j + 1 và quay lui bước 3\n",
        "\n",
        "-Sai thì chuyển sang bước 5\n",
        "\n",
        "B.5:\n",
        "Nếu (i < n – 1):\n",
        "\n",
        "-Đúng thì i = i + 1 và quay lui bước 2\n",
        "\n",
        "-Sai thì dừng Kết Thúc."
      ],
      "metadata": {
        "id": "OrODTdsiOiW3"
      }
    },
    {
      "cell_type": "code",
      "source": [
        "def bubble_sort(arr): # tạo hàm có tên bubble_sort có biến là arr\n",
        "  for i in range(len(arr)):# duyệt mảng từ vị trí đầu tiên đến n\n",
        "    for j in range(len(arr) - 1):\n",
        "      if arr[j] > arr[j+1]: # so sánh phần tử thứ j với phần tử j + 1\n",
        "        arr[j], arr[j+1] = arr[j+1], arr[j] # hoán đổi vị trí thứ j và j+1"
      ],
      "metadata": {
        "id": "EUqXFPLTOG3N"
      },
      "execution_count": 4,
      "outputs": []
    },
    {
      "cell_type": "code",
      "source": [
        "arr = [100, 120, 60,140,220,185,20,80,25,150]\n",
        "bubble_sort(arr)\n",
        "print(arr)"
      ],
      "metadata": {
        "colab": {
          "base_uri": "https://localhost:8080/",
          "height": 0
        },
        "id": "jiwpqZm1OLL-",
        "outputId": "a24022cf-a908-4da5-f615-d7fb7b6fab43"
      },
      "execution_count": 5,
      "outputs": [
        {
          "output_type": "stream",
          "name": "stdout",
          "text": [
            "[20, 25, 60, 80, 100, 120, 140, 150, 185, 220]\n"
          ]
        }
      ]
    },
    {
      "cell_type": "markdown",
      "source": [
        "INPUT:\n",
        "\n",
        "arr = [100, 120, 60,140,220,185,20,80,25,150]\n",
        "\n",
        "OUTPUT:\n",
        "\n",
        "[20, 25, 60, 80, 100, 120, 140, 150, 185, 220]"
      ],
      "metadata": {
        "id": "_CftLc_rO1Kc"
      }
    },
    {
      "cell_type": "markdown",
      "source": [
        "CÂU 3:"
      ],
      "metadata": {
        "id": "t5tHd7W0QIVx"
      }
    },
    {
      "cell_type": "code",
      "source": [
        "import math # gọi hàm math\n",
        "import sys # gọi hàm sý\n",
        "class Graph(): # tạo class grap\n",
        "  def __init__(cung, dinh): #hàm khởi tạo\n",
        "    cung.x = dinh # gán cung.c bằng đỉnh\n",
        "    cung.graph = [[0 for column in range(dinh)] # duyệt các phần tử từ 0 -> 5\n",
        "                  for row in range(dinh)]\n",
        "  def inketqua(cung, L, a): #hàm in kết quả\n",
        "    print (\"đỉnh nguồn xuất phát từ: \") # in \"đỉnh nguồn xuất phát từ\"\n",
        "    for nut in range(cung.x): #chạy vòng lặp từ nut đến cung.x\n",
        "      print (a,\" đến đỉnh \",nut, \"độ dài đường đi là: \", L[nut]) # nếu L[x] nhỏ hơn và bằng p[x] là sai\n",
        "  def duongdinhonhat(cung, L, P):# hàm tìm đường đi ngắn nhất\n",
        "    min = sys.maxsize # min gán bằng sys.maxsize\n",
        "    for x in range(cung.x): #chạy vòng lặp từ x đến cung.x\n",
        "      if L[x] < min and P[x] == False: #nếu L[x] nhỏ hơn và bằng P[x] là sai\n",
        "        min = L[x] # min gán bằng L[x]\n",
        "        min_index = x #gán min_index bằng x\n",
        "    return min_index #trả về min_index\n",
        "  def timduongdi(cung, a): #hàm tính toán\n",
        "    L = [sys.maxsize] * cung.x #L gán bằng [sys.maxsize]* cung.x\n",
        "    L[a] = 0 # gán L[a] = 0\n",
        "    P = [False] * cung.x # P gán bằng [false] * cung.x\n",
        "    for cout in range(cung.x): #chạy vòng lặp count đến cung.x\n",
        "      u = cung.duongdinhonhat(L, P) #u gán bằng cung.đuongdinhonhat(L,P)\n",
        "      P[u] = True #P[u] là đúng\n",
        "      for x in range(cung.x): # chạy vòng lặp từ x đến cung.x\n",
        "        if cung.graph[u][x] > 0 and P[x] == False and L[x] > L[u] + cung.graph[u][x]: #nếu cung.grap[u][x] lớn hơn 0 và P[x] sai và L[x] >L [u] + cung.grap[u][x]\n",
        "          L[x] = L[u] + cung.graph[u][x] # L[x] gán bằng L[u] + cung.grap[u][x] \n",
        "    cung.inketqua(L, a) #in ra kết quả :)\n",
        "g = Graph(8)"
      ],
      "metadata": {
        "id": "ynF0atorQKEi"
      },
      "execution_count": 7,
      "outputs": []
    },
    {
      "cell_type": "code",
      "source": [
        "g = Graph(8) #đồ thị có hướng\n",
        "g.graph = [[0,5,0,3,0,0,0,0],\n",
        " [0,0,2,0,0,6,0,0],\n",
        " [0,0,0,0,0,0,0,7],\n",
        " [0,0,0,0,4,2,0,0],\n",
        " [0,0,0,0,0,0,0,5],\n",
        " [0,0,0,0,0,0,6,0],\n",
        " [0,0,3,0,1,0,0,0],\n",
        " [0,0,0,0,0,0,0,0]\n",
        " ];\n",
        "g.timduongdi(0);"
      ],
      "metadata": {
        "colab": {
          "base_uri": "https://localhost:8080/",
          "height": 0
        },
        "id": "PAR_smhUQNiB",
        "outputId": "56a978e0-356d-4968-98de-8a12aecd2367"
      },
      "execution_count": 8,
      "outputs": [
        {
          "output_type": "stream",
          "name": "stdout",
          "text": [
            "đỉnh nguồn xuất phát từ: \n",
            "0  đến đỉnh  0 độ dài đường đi là:  0\n",
            "0  đến đỉnh  1 độ dài đường đi là:  5\n",
            "0  đến đỉnh  2 độ dài đường đi là:  7\n",
            "0  đến đỉnh  3 độ dài đường đi là:  3\n",
            "0  đến đỉnh  4 độ dài đường đi là:  7\n",
            "0  đến đỉnh  5 độ dài đường đi là:  5\n",
            "0  đến đỉnh  6 độ dài đường đi là:  11\n",
            "0  đến đỉnh  7 độ dài đường đi là:  12\n"
          ]
        }
      ]
    },
    {
      "cell_type": "markdown",
      "source": [
        "input:\n",
        "\n",
        "[[0,5,0,3,0,0,0,0],\n",
        "\n",
        " [0,0,2,0,0,6,0,0],\n",
        "\n",
        " [0,0,0,0,0,0,0,7],\n",
        "\n",
        " [0,0,0,0,4,2,0,0],\n",
        "\n",
        " [0,0,0,0,0,0,0,5],\n",
        "\n",
        " [0,0,0,0,0,0,6,0],\n",
        "\n",
        " [0,0,3,0,1,0,0,0],\n",
        "\n",
        " [0,0,0,0,0,0,0,0]\n",
        " ];\n",
        "\n",
        " output:\n",
        "\n",
        " 0  đến đỉnh  0 độ dài đường đi là:  0\n",
        "\n",
        "0  đến đỉnh  1 độ dài đường đi là:  5\n",
        "\n",
        "0  đến đỉnh  2 độ dài đường đi là:  7\n",
        "\n",
        "0  đến đỉnh  3 độ dài đường đi là:  3\n",
        "\n",
        "0  đến đỉnh  4 độ dài đường đi là:  7\n",
        "\n",
        "0  đến đỉnh  5 độ dài đường đi là:  5\n",
        "\n",
        "0  đến đỉnh  6 độ dài đường đi là:  11\n",
        "\n",
        "0  đến đỉnh  7 độ dài đường đi là:  12\n",
        "\n",
        "=> vậy đường đi ngắn nhất từ 0 -> 3 -> 4 -> 7 với L = 12"
      ],
      "metadata": {
        "id": "PpGOms-jRkJO"
      }
    }
  ]
}