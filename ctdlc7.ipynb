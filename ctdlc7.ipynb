{
  "nbformat": 4,
  "nbformat_minor": 0,
  "metadata": {
    "colab": {
      "provenance": [],
      "authorship_tag": "ABX9TyOgFZLgp6pEJ7bGSixXG1yB",
      "include_colab_link": true
    },
    "kernelspec": {
      "name": "python3",
      "display_name": "Python 3"
    },
    "language_info": {
      "name": "python"
    }
  },
  "cells": [
    {
      "cell_type": "markdown",
      "metadata": {
        "id": "view-in-github",
        "colab_type": "text"
      },
      "source": [
        "<a href=\"https://colab.research.google.com/github/anhhuy1010/THUC_HANH_TOAN_CAO_CAP/blob/main/ctdlc7.ipynb\" target=\"_parent\"><img src=\"https://colab.research.google.com/assets/colab-badge.svg\" alt=\"Open In Colab\"/></a>"
      ]
    },
    {
      "cell_type": "markdown",
      "source": [
        "TRẦN BẢO ANH HUY -2174802010829"
      ],
      "metadata": {
        "id": "ZgaMo7vL6wMe"
      }
    },
    {
      "cell_type": "markdown",
      "source": [
        "BÀI 1:"
      ],
      "metadata": {
        "id": "TsiTWqj_6t5I"
      }
    },
    {
      "cell_type": "code",
      "source": [
        "class treeNode: # tạo lớp cây nút\n",
        "    def __init__(self,val = None) : #khởi tạo hàm với giá trị rỗng \n",
        "        self.val =val #gán giá trị val\n",
        "        self.left = None #gán giá trị left\n",
        "        self.right =None #gán giá trị right\n",
        "root = treeNode(20) # gán giá trị gốc là 10\n",
        "root.left = treeNode(11) # gán giá trị nút gốc bên trái =7 \n",
        "root.right = treeNode(26) # gán giá trị nút gốc bên phải là 13\n",
        "root.left.left =treeNode(10) #gán giá trị nút tiếp theo bên trái là 5\n",
        "root.left.right = treeNode(29) # gán giá trị nút bên nút bên phải của nút gốc bên trái là bằng 8 \n",
        "root.right.left = treeNode(25) # Gán giá trị nút bên trái của nút gốc bên phải bằng 30\n",
        "root.right.right = treeNode(52) #gán giá trị nút bên phải của nút gốc bên phải bằng 52\n",
        "print(root.val) # in ra nút gốc\n",
        "print(root.left.val) #in ra nút con bên trái của nút gốc\n",
        "print(root.right.val) #in ra nút con bên phải của nút gốc\n",
        "print(root.left.left.val ) #in ra nút phía bên trái của nút con bên trái\n",
        "print(root.left.right.val) #in ra nút  bên phải của nút con bên trái\n",
        "print(root.right.left.val) # in ra nút bên trái của nút con bên phải \n",
        "print(root.right.right.val) # in ra gtri nút bên phải của nút con bên phải"
      ],
      "metadata": {
        "colab": {
          "base_uri": "https://localhost:8080/",
          "height": 0
        },
        "id": "RyhPhFw1Ct2r",
        "outputId": "fd8bf15c-8f9d-4bb2-eec2-0b3e8d380b24"
      },
      "execution_count": 41,
      "outputs": [
        {
          "output_type": "stream",
          "name": "stdout",
          "text": [
            "20\n",
            "11\n",
            "26\n",
            "10\n",
            "29\n",
            "25\n",
            "52\n"
          ]
        }
      ]
    },
    {
      "cell_type": "markdown",
      "source": [
        "**Nhận xét**\n",
        "\n",
        "**INPUT:**  Khởi tạo cây nhị phân \n",
        "\n",
        "CẤP 0 : cho nút gốc bằng 20 \n",
        "\n",
        "CẤP 1: + Cho nút con bên trái bằng 11 \n",
        "\n",
        "\tCho nút con bên phải bằng 26 \n",
        "\n",
        "CẤP 2:\n",
        "  Cho nút tiếp theo bên trái của nút con bên trái bằng 10 \n",
        "\n",
        "\tCho nút tiếp theo bên phải của nút con bên trái bằng 29 \n",
        "\n",
        "\tCho nút tiếp theo bên trái của nút con bên phải bằng 25\n",
        "\n",
        "\tCho nút tiếp theo bên phải của nút con bên phải bằng 52\n",
        "\n",
        "**OUTPUT:**\n",
        "\n",
        "  In ra các giá trị từ ngọn đến gốc từ \n",
        "  \n",
        "  ----------20\n",
        "\n",
        "  -------11   26\n",
        "\n",
        "---10  29 25 52"
      ],
      "metadata": {
        "id": "k3c-V-97PeA2"
      }
    },
    {
      "cell_type": "markdown",
      "source": [
        "**INPUT**\n",
        "\n"
      ],
      "metadata": {
        "id": "zVWau-DsO_Nt"
      }
    },
    {
      "cell_type": "markdown",
      "source": [
        "BÀI 2:"
      ],
      "metadata": {
        "id": "qp_pwrTnLHhn"
      }
    },
    {
      "cell_type": "code",
      "source": [
        "def display_hash(hashTable): # hàm display_hash với biến bảng băm\n",
        "  for i in range(len(hashTable)): # duyệt phần tử trong bẳng băm\n",
        "    print(i, end = \" \") #in i ra   \n",
        "    for j in hashTable[i]: # cho j chạy trong i\n",
        "      print(\"-->\", end = \" \") #in ra dấu '-->'\n",
        "      print(j, end = \" \") # in j ra\n",
        "\n",
        "    print() # in ra toàn bộ i \n",
        "HashTable = [[] for _ in range(10)] # bẳng băm có 10 phần tử\n",
        "def Hashing(keyvalue): # hàm hashing có biến là keyvalue\n",
        "  return (keyvalue % len(HashTable)) # trả lại kết quả bằng keyvalue% len(hashtable)\n",
        "def insert(Hashtable, keyvalue, value): # hàm insert có 3 giá trị là Hashtable, keyvalue, value\n",
        "  hash_key = Hashing(keyvalue) # gán hàm Hashing(keyvalue) vào hash_key\n",
        "  Hashtable[hash_key].append(value) # thêm giá trị vào bảng băm \n",
        "insert(HashTable, 26, 'A') #thêm giá trị \n",
        "insert(HashTable, 22, 'C') #thêm giá trị\n",
        "insert(HashTable, 18, 'E')#thêm giá trị\n",
        "insert(HashTable, 34, 'B')#thêm giá trị\n",
        "insert(HashTable, 50, 'F ')#thêm giá trị\n",
        "insert(HashTable, 49, 'G') #thêm giá trị\n",
        "insert(HashTable, 65, 'H') #thêm giá trị\n",
        "insert(HashTable, 31, 'R') #thêm giá trị\n",
        "insert(HashTable, 63, 'P') #thêm giá trị\n",
        "insert(HashTable, 57, 'O') #thêm giá trị\n",
        "insert(HashTable, 55, 'Y') #thêm giá trị\n",
        "display_hash (HashTable) # in ra bẳng băm"
      ],
      "metadata": {
        "colab": {
          "base_uri": "https://localhost:8080/",
          "height": 0
        },
        "id": "U1dA8rTpLHF6",
        "outputId": "9058e5d5-2487-40f2-c59c-0c8f6114cd86"
      },
      "execution_count": 39,
      "outputs": [
        {
          "output_type": "stream",
          "name": "stdout",
          "text": [
            "0 --> F  \n",
            "1 --> R \n",
            "2 --> C \n",
            "3 --> P \n",
            "4 --> B \n",
            "5 --> H --> Y \n",
            "6 --> A \n",
            "7 --> O \n",
            "8 --> E \n",
            "9 --> G \n"
          ]
        }
      ]
    },
    {
      "cell_type": "markdown",
      "source": [
        "**input**\n",
        "\n",
        "thêm các giá trị vào bẳng băm\n",
        "\n",
        "độ dài của phần tử là 10\n",
        "\n",
        " A\n",
        "\n",
        " C\n",
        "\n",
        " E\n",
        "\n",
        " B\n",
        "\n",
        " F\n",
        "\n",
        " G\n",
        "\n",
        " H\n",
        "\n",
        " R\n",
        "\n",
        " P\n",
        "\n",
        " O\n",
        "\n",
        " Y\n",
        "\n",
        " **output**\n",
        "\n",
        "số dư bằng 0 --> F\n",
        "\n",
        "số dư bằng 1 --> R\n",
        "\n",
        "số dư bằng 2 --> C \n",
        "\n",
        "số dư bằng 3 --> P\n",
        "\n",
        " số dư bằng 4 -->B\n",
        "\n",
        "số dư bằng 5 --> H --> Y\n",
        "\n",
        "số dư bằng 6 --> A \n",
        "\n",
        "số dư bằng 7 --> O\n",
        "\n",
        "số dư bằng 8 --> E\n",
        "\n",
        "số dư bằng 9 --> G\n",
        "\n",
        "**NHẬN XÉT**\n",
        "\n",
        "có xảy ra xung đột trong bảng băm trên tại vị trí thứ 6\n",
        "\n",
        "muốn giải quyết xung đột trên thì chúng ta dừng biện pháp ánh xạ hay còn được gọi là phương pháp xích ngăn cách"
      ],
      "metadata": {
        "id": "ZJsI5tE5MxdE"
      }
    }
  ]
}