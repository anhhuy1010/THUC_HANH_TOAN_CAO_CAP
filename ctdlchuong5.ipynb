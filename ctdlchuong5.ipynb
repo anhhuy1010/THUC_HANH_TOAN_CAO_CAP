{
  "nbformat": 4,
  "nbformat_minor": 0,
  "metadata": {
    "colab": {
      "provenance": [],
      "authorship_tag": "ABX9TyNF3HhTN9XwwFc7Jtpaz9TR",
      "include_colab_link": true
    },
    "kernelspec": {
      "name": "python3",
      "display_name": "Python 3"
    },
    "language_info": {
      "name": "python"
    }
  },
  "cells": [
    {
      "cell_type": "markdown",
      "metadata": {
        "id": "view-in-github",
        "colab_type": "text"
      },
      "source": [
        "<a href=\"https://colab.research.google.com/github/anhhuy1010/THUC_HANH_TOAN_CAO_CAP/blob/main/ctdlchuong5.ipynb\" target=\"_parent\"><img src=\"https://colab.research.google.com/assets/colab-badge.svg\" alt=\"Open In Colab\"/></a>"
      ]
    },
    {
      "cell_type": "markdown",
      "source": [
        "**TRẦN BẢO ANH HUY -2174802010829**"
      ],
      "metadata": {
        "id": "t0kg0MY74orG"
      }
    },
    {
      "cell_type": "markdown",
      "source": [
        "Chức năng push bao gồm các bước sau\n",
        "\n",
        "Bước 1: kiểm tra xem ngăn xếp-stack đã đầy hay chưa.\n",
        "\n",
        "Bước 2: nếu ngăn xếp-stack là đầy, tiến trình bị lỗi và thoát ra.\n",
        "\n",
        "Bước 3: nếu ngăn xếp-stack chưa đầy, tăng top để trỏ tới phần bộ nhớ trống tiếp theo.\n",
        "\n",
        "Bước 4: thêm phần tử dữ liệu vào vị trí nơi mà top đang trỏ đến trên ngăn xếp-stack.\n",
        "\n",
        "Bước 5: trả về success."
      ],
      "metadata": {
        "id": "HBu02hWmDcTc"
      }
    },
    {
      "cell_type": "markdown",
      "source": [
        "Chức năng POP bao gồm các bước:\n",
        "\n",
        "Bước 1: kiểm tra ngăn xếp-stack là trống hay không.\n",
        "\n",
        "Bước 2: nếu ngăn xếp-stack đầy, tiến trình bị lỗi và thoát ra.\n",
        "\n",
        "Bước 3: nếu ngăn xếp-stack là không trống, truy cập phần tử dữ liệu tại top đang trỏ tới.\n",
        "\n",
        "Bước 4: giảm giá trị của top đi 1.\n",
        "\n",
        "Bước 5: trả về success."
      ],
      "metadata": {
        "id": "hYM2xfDWDmfi"
      }
    },
    {
      "cell_type": "markdown",
      "source": [
        "THỰC HÀNH 1.1"
      ],
      "metadata": {
        "id": "Wba0KKR44kc_"
      }
    },
    {
      "cell_type": "code",
      "source": [
        "myStack = [] #Tạo danh sách\n",
        "myStack.append('data science') #thêm phần tử trong danh sách\n",
        "myStack.append('data analytics') #thêm phần tử trong danh sách\n",
        "myStack.append('data structures and algorithms') #thêm phần tử trong danh sách\n",
        "myStack.append('big data')#thêm thành phần trong danh sách\n",
        "myStack.append('learning data analytics')#thêm phần tử trong danh sách\n",
        "myStack # danh sách sau khi được thêm phần tử\n"
      ],
      "metadata": {
        "colab": {
          "base_uri": "https://localhost:8080/"
        },
        "id": "OOQ9fKRk4Btx",
        "outputId": "e63fac5e-36a5-46e2-c0af-f651588b4e72"
      },
      "execution_count": 21,
      "outputs": [
        {
          "output_type": "execute_result",
          "data": {
            "text/plain": [
              "['data science',\n",
              " 'data analytics',\n",
              " 'data structures and algorithms',\n",
              " 'big data',\n",
              " 'learning data analytics']"
            ]
          },
          "metadata": {},
          "execution_count": 21
        }
      ]
    },
    {
      "cell_type": "markdown",
      "source": [
        "INPUT:\n",
        "\n",
        "tạo một danh sách rỗng\n",
        "\n",
        "OUTPUT:\n",
        "\n",
        "tạo danh sách gồm các phần tử (data science, data ananlytics, data structures and algorithms, big data, learning data analytics)"
      ],
      "metadata": {
        "id": "7HbdDB6dEDeR"
      }
    },
    {
      "cell_type": "code",
      "source": [
        "myStack.pop() #lấy phần tử ra khỏi danh sách\n",
        "myStack.pop() # lấy phần tử ra khỏi danh sách\n",
        "myStack # danh sách sau khi thực hiện lấy ra hai phần tử"
      ],
      "metadata": {
        "colab": {
          "base_uri": "https://localhost:8080/"
        },
        "id": "c7z-okhpD8XR",
        "outputId": "157ebc37-4305-4f61-db3e-96ee0b1f9c0b"
      },
      "execution_count": 22,
      "outputs": [
        {
          "output_type": "execute_result",
          "data": {
            "text/plain": [
              "['data science', 'data analytics', 'data structures and algorithms']"
            ]
          },
          "metadata": {},
          "execution_count": 22
        }
      ]
    },
    {
      "cell_type": "markdown",
      "source": [
        "INPUT:\n",
        "\n",
        "danh sách gồm các phần tử (data science, data ananlytics, data structures and algorithms, big data, learning data analytics)\n",
        "\n",
        "OUTPUT:\n",
        "\n",
        "danh sách gồm các phần tử (data science, data ananlytics, data structures and algorithms)"
      ],
      "metadata": {
        "id": "xKoKnmO_EicX"
      }
    },
    {
      "cell_type": "markdown",
      "source": [
        "THỰC HÀNH 1.2"
      ],
      "metadata": {
        "id": "tRYmoaNq5ZKu"
      }
    },
    {
      "cell_type": "code",
      "source": [
        "from collections import deque # từ thư viện collections gọi hàm deque\n",
        "myStack = deque() # tạo một danh sách có tên myStack là hàng đợi hai đầu\n",
        "myStack.append('data science') #thêm phần tử vào danh sách\n",
        "myStack.append('data structures and algorithms') # thêm phần tử vào danh sách\n",
        "myStack.append('learning data analytics') # thêm phần tử vào danh sách\n",
        "myStack.append('big data') # thêm phần tử vào danh sách\n",
        "myStack # danh sách sau khi được thêm danh sách\n"
      ],
      "metadata": {
        "colab": {
          "base_uri": "https://localhost:8080/"
        },
        "id": "-s6muw4h5bzk",
        "outputId": "6369c47f-1300-4436-f45d-3b2cc44dcde5"
      },
      "execution_count": 24,
      "outputs": [
        {
          "output_type": "execute_result",
          "data": {
            "text/plain": [
              "deque(['data science',\n",
              "       'data structures and algorithms',\n",
              "       'learning data analytics',\n",
              "       'big data'])"
            ]
          },
          "metadata": {},
          "execution_count": 24
        }
      ]
    },
    {
      "cell_type": "markdown",
      "source": [
        "INPUT:\n",
        "\n",
        "tạo một danh sách rỗng\n",
        "\n",
        "OUTPUT:\n",
        "\n",
        "tạo danh sách gồm các phần tử (data science, learning data ananlytics, data structures and algorithms, big data)"
      ],
      "metadata": {
        "id": "wSLWzE5kE8He"
      }
    },
    {
      "cell_type": "code",
      "source": [
        "myStack.pop() #lấy phần tử ra khỏi danh sách\n",
        "myStack.pop() # lấy phần tử ra khỏi danh sách\n",
        "myStack # danh sách sau khi lấy hai phần tử ra khỏi danh sách"
      ],
      "metadata": {
        "colab": {
          "base_uri": "https://localhost:8080/"
        },
        "id": "NABczmk-E7Mf",
        "outputId": "4ec75c2c-8677-469d-8b2f-42a22db83fe3"
      },
      "execution_count": 25,
      "outputs": [
        {
          "output_type": "execute_result",
          "data": {
            "text/plain": [
              "deque(['data science', 'data structures and algorithms'])"
            ]
          },
          "metadata": {},
          "execution_count": 25
        }
      ]
    },
    {
      "cell_type": "markdown",
      "source": [
        "INPUT:\n",
        "\n",
        "danh sách gồm các phần tử (data science, learning data ananlytics, data structures and algorithms, big data)\n",
        "\n",
        "OUTPUT:\n",
        "\n",
        "danh sách (data science', 'data structures and algorithms)\n"
      ],
      "metadata": {
        "id": "WMVliDA2EBQo"
      }
    },
    {
      "cell_type": "markdown",
      "source": [
        "THỰC HÀNH 1.3"
      ],
      "metadata": {
        "id": "-KzukvOH6-47"
      }
    },
    {
      "cell_type": "code",
      "source": [
        "class Node:   #khởi tạo lớp Node\n",
        "          def __init__(self, value): # tạo hàm khởi tạo \n",
        "                    self.value = value # tạo biến value\n",
        "                    self.next = None # gán cho biến next bằng none\n",
        "class Stack: #khởi tạo lớp Stack\n",
        "          def __init__(self): # tạo hàm khởi tạo  \n",
        "                    self.head = Node(\"head\") # gán biến head bằng 'head'  \n",
        "                    self.size = 0 # gán biến size bằng 0\n",
        "          def __str__(self): # tạo hàm __str__ \n",
        "                    cur = self.head.next # gán dữ liệu head.next vào cur\n",
        "                    out = \"\" # gán khoảng trắng cho biến out\n",
        "                    while cur: # vòng lặp cur\n",
        "                              out += str(cur.value) + \"->\" # hàm tính toán out = str(cur.value)+ out \n",
        "                              cur = cur.next# gán giá trị cur vào cur.next\n",
        "                    return out[:-3] # thoát vòng lặp khi giá trị out lớn hơn 3\n",
        "          def getSize(self): # khởi tạo hàm có tên là getsize\n",
        "                    return self.size # trả về giá trị size\n",
        "          def isEmpty(self): # khởi tạo giá trị có tên isEmpty\n",
        "                    return self.size == 0 # trả về giá trị size bằng 0\n",
        "          def peek(self): # tạo hàm peek\n",
        "                    if self.isEmpty(): # tạo vòng lặp trong hàm self.isEmpty()\n",
        "                              raise Exception(\"Peeking stack\") # xuất ra ngoại lệ (\"peeking stack\")\n",
        "                    return self.head.next.value # trả về giá trị của hàm self.head.next.value\n",
        "          def push(self, value): # tạo hàm push với 2 biến self, value\n",
        "                    node = Node(value) # gán giá trị vào hàm node\n",
        "                    node.next = self.head.next # gán node.next là chính nó\n",
        "                    self.head.next = node # gán self.head.next không có giá trị \n",
        "                    self.size += 1 # biến self.size = self.size +1\n",
        "          def pop(self): # khởi tạo hàm xóa\n",
        "                    if self.isEmpty(): # khởi tạo vòng lặp trong self.isEmpty\n",
        "                              raise Exception(\"Popping from an empty stack\") # xuất ra ngoại lệ \"Popping from an empty stack\"\n",
        "                    remove = self.head.next # gán self.head.next vào hàm remove\n",
        "                    self.head.next = self.head.next.next # gán biến self.head.next bằng biến self.head.next.next\n",
        "                    self.size -= 1 # hàm self.size = self.size - 1\n",
        "                    return remove.value # trả về giá trị remove.value\n",
        "if __name__ == \"__main__\": # tạo hàm  __main__\n",
        "          stack = Stack() #đặt lớp Stack() thành biến stack \n",
        "          for i in range(1, 20): # cho i chạy trong khoảng từ (1,20)\n",
        "                    stack.push(i) # bổ sung các giá trị của i vào stack \n",
        "          print(f\"Stack: {stack}\") # xuất ra danh sách stack\n",
        "          for _ in range(1, 9): # duyệt từ vị trí 1 đến 8\n",
        "                    remove = stack.pop()# xóa phần tử cuối \n",
        "                    print(f\"Pop: {remove}\") # xuất ra giá đã xóa \n",
        "          print(f\"Stack: {stack}\") # in ra các giá trị sau khi đã thực hiện các lệnh "
      ],
      "metadata": {
        "colab": {
          "base_uri": "https://localhost:8080/"
        },
        "id": "QjlxxZ8-7A0p",
        "outputId": "daa2fc85-9b1b-45ae-99d4-11b396032eb2"
      },
      "execution_count": 27,
      "outputs": [
        {
          "output_type": "stream",
          "name": "stdout",
          "text": [
            "Stack: 19->18->17->16->15->14->13->12->11->10->9->8->7->6->5->4->3->2->\n",
            "Pop: 19\n",
            "Pop: 18\n",
            "Pop: 17\n",
            "Pop: 16\n",
            "Pop: 15\n",
            "Pop: 14\n",
            "Pop: 13\n",
            "Pop: 12\n",
            "Stack: 11->10->9->8->7->6->5->4->3->2->\n"
          ]
        }
      ]
    },
    {
      "cell_type": "markdown",
      "source": [
        "INPUT:\n",
        "\n",
        "danh sách stack(2,3,4,5,6,7,8,9,10,11,12,13,14,15,16,17,18,19)\n",
        "\n",
        "OUTPUT:\n",
        "\n",
        "danh sách stack(2,3,4,5,6,7,8,9,10,11)"
      ],
      "metadata": {
        "id": "DknuVqzGFfrF"
      }
    }
  ]
}