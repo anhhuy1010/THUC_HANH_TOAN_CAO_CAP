{
  "nbformat": 4,
  "nbformat_minor": 0,
  "metadata": {
    "colab": {
      "name": "bàithi.ipynb",
      "provenance": [],
      "authorship_tag": "ABX9TyMSG3yZVRiAOFBDBDpFRC5L",
      "include_colab_link": true
    },
    "kernelspec": {
      "name": "python3",
      "display_name": "Python 3"
    },
    "language_info": {
      "name": "python"
    }
  },
  "cells": [
    {
      "cell_type": "markdown",
      "metadata": {
        "id": "view-in-github",
        "colab_type": "text"
      },
      "source": [
        "<a href=\"https://colab.research.google.com/github/anhhuy1010/THUC_HANH_TOAN_CAO_CAP/blob/main/b%C3%A0ithi.ipynb\" target=\"_parent\"><img src=\"https://colab.research.google.com/assets/colab-badge.svg\" alt=\"Open In Colab\"/></a>"
      ]
    },
    {
      "cell_type": "code",
      "execution_count": 3,
      "metadata": {
        "colab": {
          "base_uri": "https://localhost:8080/",
          "height": 58
        },
        "id": "hCTa_W6ZkxKc",
        "outputId": "5543d8b8-596f-429b-bdb8-345b3286ecf7"
      },
      "outputs": [
        {
          "output_type": "execute_result",
          "data": {
            "text/plain": [
              "2/(x + 2) - (2*x - 1)/(x + 2)**2"
            ],
            "text/latex": "$\\displaystyle \\frac{2}{x + 2} - \\frac{2 x - 1}{\\left(x + 2\\right)^{2}}$"
          },
          "metadata": {},
          "execution_count": 3
        }
      ],
      "source": [
        "from sympy import Symbol, Derivative\n",
        "import sympy\n",
        "x = Symbol('x')\n",
        "a = (2*x-1)/(x+2)\n",
        "Derivative(a, x).doit()"
      ]
    },
    {
      "cell_type": "code",
      "source": [
        "from sympy import Symbol, Derivative\n",
        "import sympy\n",
        "x = Symbol('x')\n",
        "b = (x**2+3*x-1)/(x+1)\n",
        "Derivative(b, x).doit()"
      ],
      "metadata": {
        "colab": {
          "base_uri": "https://localhost:8080/",
          "height": 61
        },
        "id": "19NuasjasPva",
        "outputId": "071e4e3d-be93-4f72-c63f-cba7c23bbd59"
      },
      "execution_count": 4,
      "outputs": [
        {
          "output_type": "execute_result",
          "data": {
            "text/plain": [
              "(2*x + 3)/(x + 1) - (x**2 + 3*x - 1)/(x + 1)**2"
            ],
            "text/latex": "$\\displaystyle \\frac{2 x + 3}{x + 1} - \\frac{x^{2} + 3 x - 1}{\\left(x + 1\\right)^{2}}$"
          },
          "metadata": {},
          "execution_count": 4
        }
      ]
    },
    {
      "cell_type": "code",
      "source": [
        "from sympy import *\n",
        "x = Symbol('x')\n",
        "c = (1+x+x**2+x**3)/(1+x)\n",
        "print(limit(c, x, 0))\n"
      ],
      "metadata": {
        "colab": {
          "base_uri": "https://localhost:8080/"
        },
        "id": "EEJgF1fRspP-",
        "outputId": "1c8beb74-8af9-4384-b18c-7581980fba3c"
      },
      "execution_count": 5,
      "outputs": [
        {
          "output_type": "stream",
          "name": "stdout",
          "text": [
            "1\n"
          ]
        }
      ]
    },
    {
      "cell_type": "code",
      "source": [
        "from sympy import *\n",
        "import math\n",
        "x = Symbol('x')\n",
        "d = x**2* math.sin(1/2)\n",
        "print(limit(d, x, 1))"
      ],
      "metadata": {
        "colab": {
          "base_uri": "https://localhost:8080/"
        },
        "id": "50znW825tiGD",
        "outputId": "3fb6f0aa-c1bc-40a5-f0b9-51de587f9795"
      },
      "execution_count": 8,
      "outputs": [
        {
          "output_type": "stream",
          "name": "stdout",
          "text": [
            "0.479425538604203\n"
          ]
        }
      ]
    }
  ]
}