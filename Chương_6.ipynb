{
  "nbformat": 4,
  "nbformat_minor": 0,
  "metadata": {
    "colab": {
      "name": "Chương 6.ipynb",
      "provenance": [],
      "include_colab_link": true
    },
    "kernelspec": {
      "name": "python3",
      "display_name": "Python 3"
    },
    "language_info": {
      "name": "python"
    }
  },
  "cells": [
    {
      "cell_type": "markdown",
      "metadata": {
        "id": "view-in-github",
        "colab_type": "text"
      },
      "source": [
        "<a href=\"https://colab.research.google.com/github/anhhuy1010/THUC_HANH_TOAN_CAO_CAP/blob/main/Ch%C6%B0%C6%A1ng_6.ipynb\" target=\"_parent\"><img src=\"https://colab.research.google.com/assets/colab-badge.svg\" alt=\"Open In Colab\"/></a>"
      ]
    },
    {
      "cell_type": "markdown",
      "source": [
        "Thực hành 1"
      ],
      "metadata": {
        "id": "bxBmt-eZWGcg"
      }
    },
    {
      "cell_type": "code",
      "source": [
        "import math \n",
        "def giaithua(n): \n",
        "  if (n==0):\n",
        "    return 1\n",
        "  else:\n",
        "    return n*giaithua(n-1)"
      ],
      "metadata": {
        "id": "TscurszhWJNr"
      },
      "execution_count": null,
      "outputs": []
    },
    {
      "cell_type": "code",
      "source": [
        "giaithua(3) "
      ],
      "metadata": {
        "colab": {
          "base_uri": "https://localhost:8080/"
        },
        "id": "uNp2pSvOfUkv",
        "outputId": "1d948655-e0f3-41ed-bb00-8ae641779f32"
      },
      "execution_count": null,
      "outputs": [
        {
          "output_type": "execute_result",
          "data": {
            "text/plain": [
              "6"
            ]
          },
          "metadata": {},
          "execution_count": 3
        }
      ]
    },
    {
      "cell_type": "code",
      "source": [
        "giaithua(4) "
      ],
      "metadata": {
        "colab": {
          "base_uri": "https://localhost:8080/"
        },
        "id": "Ep1DHMXFfXJg",
        "outputId": "8eb9590d-5b32-41ac-dc11-87cc327692c0"
      },
      "execution_count": null,
      "outputs": [
        {
          "output_type": "execute_result",
          "data": {
            "text/plain": [
              "24"
            ]
          },
          "metadata": {},
          "execution_count": 5
        }
      ]
    },
    {
      "cell_type": "markdown",
      "source": [
        "Thực hành 2"
      ],
      "metadata": {
        "id": "URhFdVOtff8L"
      }
    },
    {
      "cell_type": "code",
      "source": [
        "def fibo(n):\n",
        "  if n == 0:\n",
        "    return 0\n",
        "  if n == 1:\n",
        "    return 1\n",
        "  return fibo(n-1) + fibo(n-2) "
      ],
      "metadata": {
        "id": "Ps4dsY8FfiRS"
      },
      "execution_count": null,
      "outputs": []
    },
    {
      "cell_type": "code",
      "source": [
        "fibo(4) "
      ],
      "metadata": {
        "colab": {
          "base_uri": "https://localhost:8080/"
        },
        "id": "3mZet3jeftko",
        "outputId": "7f8b7022-033c-475d-83a2-cabb8d1a11c1"
      },
      "execution_count": null,
      "outputs": [
        {
          "output_type": "execute_result",
          "data": {
            "text/plain": [
              "3"
            ]
          },
          "metadata": {},
          "execution_count": 11
        }
      ]
    },
    {
      "cell_type": "code",
      "source": [
        "fibo(5) "
      ],
      "metadata": {
        "colab": {
          "base_uri": "https://localhost:8080/"
        },
        "id": "ElHvGAPSfyOu",
        "outputId": "05d4fb10-273a-450a-fc8d-3d591c288ff7"
      },
      "execution_count": null,
      "outputs": [
        {
          "output_type": "execute_result",
          "data": {
            "text/plain": [
              "5"
            ]
          },
          "metadata": {},
          "execution_count": 12
        }
      ]
    },
    {
      "cell_type": "code",
      "source": [
        "fibo(6)"
      ],
      "metadata": {
        "colab": {
          "base_uri": "https://localhost:8080/"
        },
        "id": "k-lxPPTBfzPF",
        "outputId": "6fd7c05a-f238-412b-8b80-20e3794b0d26"
      },
      "execution_count": null,
      "outputs": [
        {
          "output_type": "execute_result",
          "data": {
            "text/plain": [
              "8"
            ]
          },
          "metadata": {},
          "execution_count": 13
        }
      ]
    },
    {
      "cell_type": "markdown",
      "source": [
        "Thực hành 3"
      ],
      "metadata": {
        "id": "zsvLBcv-f1jD"
      }
    },
    {
      "cell_type": "code",
      "source": [
        "def an_exp_an(n): \n",
        "  if n == 1: \n",
        "    return 1.0/2 \n",
        "  else:\n",
        "    return an_exp_an(n-1)**an_exp_an(n-1) "
      ],
      "metadata": {
        "id": "2HtbXVDsf54I"
      },
      "execution_count": null,
      "outputs": []
    },
    {
      "cell_type": "code",
      "source": [
        "an_exp_an(1)"
      ],
      "metadata": {
        "colab": {
          "base_uri": "https://localhost:8080/"
        },
        "id": "rd_8f-O7gFXp",
        "outputId": "385912f2-7ec7-4204-e968-460c781aca94"
      },
      "execution_count": null,
      "outputs": [
        {
          "output_type": "execute_result",
          "data": {
            "text/plain": [
              "0.5"
            ]
          },
          "metadata": {},
          "execution_count": 15
        }
      ]
    },
    {
      "cell_type": "code",
      "source": [
        "an_exp_an(2)"
      ],
      "metadata": {
        "colab": {
          "base_uri": "https://localhost:8080/"
        },
        "id": "T3NNx7logICf",
        "outputId": "9811bf1a-ae23-4bf4-c6e1-83f94a373f01"
      },
      "execution_count": null,
      "outputs": [
        {
          "output_type": "execute_result",
          "data": {
            "text/plain": [
              "0.7071067811865476"
            ]
          },
          "metadata": {},
          "execution_count": 16
        }
      ]
    },
    {
      "cell_type": "code",
      "source": [
        "an_exp_an(3)"
      ],
      "metadata": {
        "colab": {
          "base_uri": "https://localhost:8080/"
        },
        "id": "tGAwdJ2KgJ2N",
        "outputId": "f6d7cf3c-1ead-4c57-a1b3-7cf1b5aef6e4"
      },
      "execution_count": null,
      "outputs": [
        {
          "output_type": "execute_result",
          "data": {
            "text/plain": [
              "0.7826540273556803"
            ]
          },
          "metadata": {},
          "execution_count": 17
        }
      ]
    },
    {
      "cell_type": "code",
      "source": [
        "an_exp_an(4)"
      ],
      "metadata": {
        "colab": {
          "base_uri": "https://localhost:8080/"
        },
        "id": "0SmvJUn3gLT7",
        "outputId": "1d509aab-57a7-416b-db1d-e5e15a2ba007"
      },
      "execution_count": null,
      "outputs": [
        {
          "output_type": "execute_result",
          "data": {
            "text/plain": [
              "0.8254713306050621"
            ]
          },
          "metadata": {},
          "execution_count": 18
        }
      ]
    },
    {
      "cell_type": "code",
      "source": [
        "an_exp_an(5)"
      ],
      "metadata": {
        "colab": {
          "base_uri": "https://localhost:8080/"
        },
        "id": "e6n2EunUgNBl",
        "outputId": "391c2c99-cd60-4401-fa57-390792b19c8f"
      },
      "execution_count": null,
      "outputs": [
        {
          "output_type": "execute_result",
          "data": {
            "text/plain": [
              "0.8535714578150946"
            ]
          },
          "metadata": {},
          "execution_count": 19
        }
      ]
    },
    {
      "cell_type": "code",
      "source": [
        "an_exp_an(10)"
      ],
      "metadata": {
        "colab": {
          "base_uri": "https://localhost:8080/"
        },
        "id": "7qnLbnkSgOpg",
        "outputId": "f796af7a-793f-48e2-b83d-481fa35f1247"
      },
      "execution_count": null,
      "outputs": [
        {
          "output_type": "execute_result",
          "data": {
            "text/plain": [
              "0.9176411981636667"
            ]
          },
          "metadata": {},
          "execution_count": 20
        }
      ]
    },
    {
      "cell_type": "markdown",
      "source": [
        "Thực hành 4"
      ],
      "metadata": {
        "id": "jxskBrZEgYQo"
      }
    },
    {
      "cell_type": "code",
      "source": [
        "def bai4(n): \n",
        "  if n==1:\n",
        "    return 4 \n",
        "  else: \n",
        "    return 5.0/(6-bai4(n-1)) "
      ],
      "metadata": {
        "id": "tABNzK71gZ1T"
      },
      "execution_count": null,
      "outputs": []
    },
    {
      "cell_type": "code",
      "source": [
        "bai4(5)"
      ],
      "metadata": {
        "colab": {
          "base_uri": "https://localhost:8080/"
        },
        "id": "NGUp7-ibgpF0",
        "outputId": "3619a4fe-3df6-4147-e8b9-65790b10bb4a"
      },
      "execution_count": null,
      "outputs": [
        {
          "output_type": "execute_result",
          "data": {
            "text/plain": [
              "1.019108280254777"
            ]
          },
          "metadata": {},
          "execution_count": 22
        }
      ]
    },
    {
      "cell_type": "code",
      "source": [
        "bai4(6)"
      ],
      "metadata": {
        "colab": {
          "base_uri": "https://localhost:8080/"
        },
        "id": "pQIghU8tgr0q",
        "outputId": "c193b095-76b5-4126-c425-ddfc87a75d06"
      },
      "execution_count": null,
      "outputs": [
        {
          "output_type": "execute_result",
          "data": {
            "text/plain": [
              "1.0038363171355498"
            ]
          },
          "metadata": {},
          "execution_count": 23
        }
      ]
    },
    {
      "cell_type": "code",
      "source": [
        "bai4(7) "
      ],
      "metadata": {
        "colab": {
          "base_uri": "https://localhost:8080/"
        },
        "id": "jBAtcl5egubD",
        "outputId": "ce8732f1-f141-486f-b5ca-9024bc2949cb"
      },
      "execution_count": null,
      "outputs": [
        {
          "output_type": "execute_result",
          "data": {
            "text/plain": [
              "1.000767852572306"
            ]
          },
          "metadata": {},
          "execution_count": 24
        }
      ]
    },
    {
      "cell_type": "code",
      "source": [
        "bai4(10) "
      ],
      "metadata": {
        "colab": {
          "base_uri": "https://localhost:8080/"
        },
        "id": "m8TbQavWgxDD",
        "outputId": "2c9bc41d-932b-441f-fa9f-0095c2401e3d"
      },
      "execution_count": null,
      "outputs": [
        {
          "output_type": "execute_result",
          "data": {
            "text/plain": [
              "1.0000061439905628"
            ]
          },
          "metadata": {},
          "execution_count": 25
        }
      ]
    },
    {
      "cell_type": "code",
      "source": [
        "bai4(100) "
      ],
      "metadata": {
        "colab": {
          "base_uri": "https://localhost:8080/"
        },
        "id": "61hAsNSOg065",
        "outputId": "67d8d10d-813b-4304-ff40-09faf5a3078e"
      },
      "execution_count": null,
      "outputs": [
        {
          "output_type": "execute_result",
          "data": {
            "text/plain": [
              "1.0"
            ]
          },
          "metadata": {},
          "execution_count": 26
        }
      ]
    },
    {
      "cell_type": "markdown",
      "source": [
        "Thực hành 5"
      ],
      "metadata": {
        "id": "sgfTjZsrg_O0"
      }
    },
    {
      "cell_type": "code",
      "source": [
        "def tisoFibo(n):\n",
        "  if n==1:\n",
        "    return 1\n",
        "  else:\n",
        "    return 1.0 + 1.0/tisoFibo(n-1)"
      ],
      "metadata": {
        "id": "jp5QrJmjhAVI"
      },
      "execution_count": null,
      "outputs": []
    },
    {
      "cell_type": "code",
      "source": [
        "for i in range(1, 11):\n",
        "  print (i, tisoFibo(i))"
      ],
      "metadata": {
        "colab": {
          "base_uri": "https://localhost:8080/"
        },
        "id": "2RJi0n-vhV7r",
        "outputId": "457c878c-11e1-40f6-d187-3e6804f02432"
      },
      "execution_count": null,
      "outputs": [
        {
          "output_type": "stream",
          "name": "stdout",
          "text": [
            "1 1\n",
            "2 2.0\n",
            "3 1.5\n",
            "4 1.6666666666666665\n",
            "5 1.6\n",
            "6 1.625\n",
            "7 1.6153846153846154\n",
            "8 1.619047619047619\n",
            "9 1.6176470588235294\n",
            "10 1.6181818181818182\n"
          ]
        }
      ]
    },
    {
      "cell_type": "markdown",
      "source": [
        ""
      ],
      "metadata": {
        "id": "zrjbXROJhZFS"
      }
    }
  ]
}