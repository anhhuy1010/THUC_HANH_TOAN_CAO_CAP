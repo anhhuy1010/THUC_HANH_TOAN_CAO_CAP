{
  "nbformat": 4,
  "nbformat_minor": 0,
  "metadata": {
    "colab": {
      "name": "bai5.ipynb",
      "provenance": [],
      "authorship_tag": "ABX9TyMSWaw207z4N5acL+EO3yVv",
      "include_colab_link": true
    },
    "kernelspec": {
      "name": "python3",
      "display_name": "Python 3"
    },
    "language_info": {
      "name": "python"
    }
  },
  "cells": [
    {
      "cell_type": "markdown",
      "metadata": {
        "id": "view-in-github",
        "colab_type": "text"
      },
      "source": [
        "<a href=\"https://colab.research.google.com/github/anhhuy1010/THUC_HANH_TOAN_CAO_CAP/blob/main/bai5.ipynb\" target=\"_parent\"><img src=\"https://colab.research.google.com/assets/colab-badge.svg\" alt=\"Open In Colab\"/></a>"
      ]
    },
    {
      "cell_type": "markdown",
      "source": [
        "bài 1\n"
      ],
      "metadata": {
        "id": "95IxSCZsQUI9"
      }
    },
    {
      "cell_type": "code",
      "source": [
        "x = 3\n",
        "print(x)"
      ],
      "metadata": {
        "colab": {
          "base_uri": "https://localhost:8080/"
        },
        "id": "nOrqJ_HEQXYH",
        "outputId": "62c2e764-9482-476f-e08c-c4e8e19a9acb"
      },
      "execution_count": 1,
      "outputs": [
        {
          "output_type": "stream",
          "name": "stdout",
          "text": [
            "3\n"
          ]
        }
      ]
    },
    {
      "cell_type": "code",
      "source": [
        "import math\n",
        "x = math.sqrt(1+x)\n",
        "print(x)"
      ],
      "metadata": {
        "colab": {
          "base_uri": "https://localhost:8080/"
        },
        "id": "ZszOS4lcQjtq",
        "outputId": "3c134cca-2de0-4c1c-9220-c02b7394c0cb"
      },
      "execution_count": 4,
      "outputs": [
        {
          "output_type": "stream",
          "name": "stdout",
          "text": [
            "1.7320508075688772\n"
          ]
        }
      ]
    },
    {
      "cell_type": "markdown",
      "source": [
        "bài 2"
      ],
      "metadata": {
        "id": "Jo_8HuR-Q_gz"
      }
    },
    {
      "cell_type": "code",
      "source": [
        "import math \n",
        "x = 3\n",
        "lap = 1\n",
        "while(x!= math.sqrt(x+1)):\n",
        "  x = math.sqrt(x+1)\n",
        "  lap = lap +1\n",
        "  print(x)\n",
        "  print(lap)"
      ],
      "metadata": {
        "id": "q_Ae6YRNRA5C"
      },
      "execution_count": null,
      "outputs": []
    },
    {
      "cell_type": "markdown",
      "source": [
        "bài 3"
      ],
      "metadata": {
        "id": "r47Q_npXRjSY"
      }
    },
    {
      "cell_type": "code",
      "source": [
        "import sympy as sp\n",
        "from sympy import Symbol\n",
        "x = Symbol('x')\n",
        "sp.solve(x-sp.sqrt(1+x),x) "
      ],
      "metadata": {
        "colab": {
          "base_uri": "https://localhost:8080/"
        },
        "id": "yXViZp6LRxBi",
        "outputId": "dc60af24-b6c3-4906-bfd6-e5e5f82a8771"
      },
      "execution_count": 10,
      "outputs": [
        {
          "output_type": "execute_result",
          "data": {
            "text/plain": [
              "[1/2 + sqrt(5)/2]"
            ]
          },
          "metadata": {},
          "execution_count": 10
        }
      ]
    },
    {
      "cell_type": "markdown",
      "source": [
        "bài 4"
      ],
      "metadata": {
        "id": "tl2zFyiZSRVC"
      }
    },
    {
      "cell_type": "code",
      "source": [
        "import numpy as np \n",
        "v1 = np.array([1., 2., 3.]) \n",
        "v2 = np.array([2., 1., 0.])\n",
        "v3 = v1 + v2  \n",
        "print(v3)\n",
        "a = 3*v1 + 2*v2\n",
        "print(a)\n",
        "b = [1, 2, 3] + [2, 1, 0] \n",
        "print(b)\n",
        "c = 3*[1, 2, 3] + 2*[2, 1, 0] \n",
        "print(c)\n",
        "v4 = np.hstack([v1, v2]) \n",
        "print(v4)\n",
        "d = np.dot(v1,v2)\n",
        "print(d)\n",
        "angles = np.linspace(0, np.pi/2, 5) \n",
        "print(angles)"
      ],
      "metadata": {
        "colab": {
          "base_uri": "https://localhost:8080/"
        },
        "id": "35yUSieoSS1o",
        "outputId": "91db3cb1-7561-4dab-f050-f0b6f4063bcb"
      },
      "execution_count": 17,
      "outputs": [
        {
          "output_type": "stream",
          "name": "stdout",
          "text": [
            "[3. 3. 3.]\n",
            "[7. 8. 9.]\n",
            "[1, 2, 3, 2, 1, 0]\n",
            "[1, 2, 3, 1, 2, 3, 1, 2, 3, 2, 1, 0, 2, 1, 0]\n",
            "[1. 2. 3. 2. 1. 0.]\n",
            "4.0\n",
            "[0.         0.39269908 0.78539816 1.17809725 1.57079633]\n"
          ]
        }
      ]
    },
    {
      "cell_type": "markdown",
      "source": [
        "bài 5"
      ],
      "metadata": {
        "id": "3WQ668TPSfTx"
      }
    },
    {
      "cell_type": "code",
      "source": [
        "import numpy as np\n",
        "goc = np.pi/3\n",
        "A = np.array([ [np.cos(goc), -np.sin(goc)],[np.sin(goc),  np.cos(goc)] ])\n",
        "V = np.array([1. , 0. ])\n",
        "Y = np.dot(A, V)\n",
        "print(Y) "
      ],
      "metadata": {
        "colab": {
          "base_uri": "https://localhost:8080/"
        },
        "id": "1yGK8sghTecX",
        "outputId": "1a8c65fd-77a7-47b4-f7ea-6dd666917ea0"
      },
      "execution_count": 19,
      "outputs": [
        {
          "output_type": "stream",
          "name": "stdout",
          "text": [
            "[0.5       0.8660254]\n"
          ]
        }
      ]
    },
    {
      "cell_type": "markdown",
      "source": [
        "bài 6"
      ],
      "metadata": {
        "id": "8h7Re81DTyP1"
      }
    },
    {
      "cell_type": "code",
      "source": [
        "from numpy import diff\n",
        "dx = 0.1 \n",
        "y = [1, 2, 3, 4, 4, 5, 6]\n",
        "dy = diff(y)/dx \n",
        "print(dy) "
      ],
      "metadata": {
        "colab": {
          "base_uri": "https://localhost:8080/"
        },
        "id": "jO5Ftgj0T2Hx",
        "outputId": "8270256e-d661-4e4d-f09c-6aba381ee950"
      },
      "execution_count": 21,
      "outputs": [
        {
          "output_type": "stream",
          "name": "stdout",
          "text": [
            "[10. 10. 10.  0. 10. 10.]\n"
          ]
        }
      ]
    },
    {
      "cell_type": "code",
      "source": [
        "z = np.array([1, 2, 3, 4, 4, 5, 6])\n",
        "dz = diff(z)/dx\n",
        "print(dz) "
      ],
      "metadata": {
        "colab": {
          "base_uri": "https://localhost:8080/"
        },
        "id": "MOzWFzynUF0c",
        "outputId": "bfbe099b-9695-42d8-bce2-bf2aa2b5a614"
      },
      "execution_count": 22,
      "outputs": [
        {
          "output_type": "stream",
          "name": "stdout",
          "text": [
            "[10. 10. 10.  0. 10. 10.]\n"
          ]
        }
      ]
    },
    {
      "cell_type": "code",
      "source": [
        " from numpy import diff\n",
        " x = [.1, .2, .5, .6, .7, .8, .9]\n",
        " y = [1, 2, 3, 4, 4, 5, 6]\n",
        " dydx = diff(y)/diff(x)\n",
        " print(dydx) "
      ],
      "metadata": {
        "colab": {
          "base_uri": "https://localhost:8080/"
        },
        "id": "9ALZLxYbUO2_",
        "outputId": "ac5eb4b3-f102-4240-f027-b1e8c99ee938"
      },
      "execution_count": 23,
      "outputs": [
        {
          "output_type": "stream",
          "name": "stdout",
          "text": [
            "[10.          3.33333333 10.          0.         10.         10.        ]\n"
          ]
        }
      ]
    },
    {
      "cell_type": "markdown",
      "source": [
        "bài 7"
      ],
      "metadata": {
        "id": "wSshuC5wUDl1"
      }
    },
    {
      "cell_type": "code",
      "source": [
        " from sympy.geometry import * \n",
        "P1 = Point(0, 0) \n",
        "P2 = Point(3, 4) \n",
        "P3 = Point(2, -1) \n",
        "P4 = Point(-1, 5)\n",
        "# \n",
        "S1 = Segment(P1, P2)\n",
        "S2 = Segment(P3, P4) \n",
        "#\n",
        "Point.is_collinear(P1, P2, P3) "
      ],
      "metadata": {
        "colab": {
          "base_uri": "https://localhost:8080/",
          "height": 37
        },
        "id": "H4Rx5mflUaw8",
        "outputId": "64c5be1f-d760-449f-fab3-230bd3df677b"
      },
      "execution_count": 26,
      "outputs": [
        {
          "output_type": "execute_result",
          "data": {
            "text/latex": "$\\displaystyle 5$",
            "text/plain": [
              "5"
            ]
          },
          "metadata": {},
          "execution_count": 26
        }
      ]
    },
    {
      "cell_type": "code",
      "source": [
        "from sympy.geometry import * \n",
        "P1 = Point(0, 0) \n",
        "P2 = Point(3, 4) \n",
        "P3 = Point(2, -1) \n",
        "P4 = Point(-1, 5)\n",
        "# \n",
        "S1 = Segment(P1, P2)\n",
        "S2 = Segment(P3, P4) \n",
        "#\n",
        "S1.length"
      ],
      "metadata": {
        "id": "F8G02ei1VHXN"
      },
      "execution_count": null,
      "outputs": []
    },
    {
      "cell_type": "code",
      "source": [
        "from sympy.geometry import * \n",
        "P1 = Point(0, 0) \n",
        "P2 = Point(3, 4) \n",
        "P3 = Point(2, -1) \n",
        "P4 = Point(-1, 5)\n",
        "# \n",
        "S1 = Segment(P1, P2)\n",
        "S2 = Segment(P3, P4) \n",
        "#\n",
        "S2.midpoint"
      ],
      "metadata": {
        "colab": {
          "base_uri": "https://localhost:8080/",
          "height": 57
        },
        "id": "CZtmbCJAVKQL",
        "outputId": "e4d7131b-cdd1-401f-c8d5-70fd8393ccec"
      },
      "execution_count": 27,
      "outputs": [
        {
          "output_type": "execute_result",
          "data": {
            "text/latex": "$\\displaystyle Point2D\\left(\\frac{1}{2}, 2\\right)$",
            "text/plain": [
              "Point2D(1/2, 2)"
            ]
          },
          "metadata": {},
          "execution_count": 27
        }
      ]
    },
    {
      "cell_type": "code",
      "source": [
        "from sympy.geometry import * \n",
        "P1 = Point(0, 0) \n",
        "P2 = Point(3, 4) \n",
        "P3 = Point(2, -1) \n",
        "P4 = Point(-1, 5)\n",
        "# \n",
        "S1 = Segment(P1, P2)\n",
        "S2 = Segment(P3, P4) \n",
        "#\n",
        "S1.slope"
      ],
      "metadata": {
        "colab": {
          "base_uri": "https://localhost:8080/",
          "height": 51
        },
        "id": "Cg8BIC_vVRZj",
        "outputId": "cf101a68-f58a-463f-bc0e-14da62ead19b"
      },
      "execution_count": 28,
      "outputs": [
        {
          "output_type": "execute_result",
          "data": {
            "text/latex": "$\\displaystyle \\frac{4}{3}$",
            "text/plain": [
              "4/3"
            ]
          },
          "metadata": {},
          "execution_count": 28
        }
      ]
    },
    {
      "cell_type": "code",
      "source": [
        "from sympy.geometry import * \n",
        "P1 = Point(0, 0) \n",
        "P2 = Point(3, 4) \n",
        "P3 = Point(2, -1) \n",
        "P4 = Point(-1, 5)\n",
        "# \n",
        "S1 = Segment(P1, P2)\n",
        "S2 = Segment(P3, P4) \n",
        "#\n",
        "S1.intersection(S2) "
      ],
      "metadata": {
        "colab": {
          "base_uri": "https://localhost:8080/"
        },
        "id": "u7BjwboQVUdg",
        "outputId": "ecca91e2-daee-4ced-8452-bba6db05b816"
      },
      "execution_count": 29,
      "outputs": [
        {
          "output_type": "execute_result",
          "data": {
            "text/plain": [
              "[Point2D(9/10, 6/5)]"
            ]
          },
          "metadata": {},
          "execution_count": 29
        }
      ]
    },
    {
      "cell_type": "code",
      "source": [
        "from sympy.geometry import * \n",
        "P1 = Point(0, 0) \n",
        "P2 = Point(3, 4) \n",
        "P3 = Point(2, -1) \n",
        "P4 = Point(-1, 5)\n",
        "# \n",
        "S1 = Segment(P1, P2)\n",
        "S2 = Segment(P3, P4) \n",
        "#\n",
        "Segment.angle_between(S1, S2) "
      ],
      "metadata": {
        "colab": {
          "base_uri": "https://localhost:8080/",
          "height": 68
        },
        "id": "oqZn07P8VdAI",
        "outputId": "743c56e0-1e49-459f-e8f8-14612f6b6220"
      },
      "execution_count": 30,
      "outputs": [
        {
          "output_type": "execute_result",
          "data": {
            "text/latex": "$\\displaystyle \\operatorname{acos}{\\left(\\frac{\\sqrt{5}}{5} \\right)}$",
            "text/plain": [
              "acos(sqrt(5)/5)"
            ]
          },
          "metadata": {},
          "execution_count": 30
        }
      ]
    },
    {
      "cell_type": "code",
      "source": [
        "from sympy.geometry import * \n",
        "P1 = Point(0, 0) \n",
        "P2 = Point(3, 4) \n",
        "P3 = Point(2, -1) \n",
        "P4 = Point(-1, 5)\n",
        "# \n",
        "S1 = Segment(P1, P2)\n",
        "S2 = Segment(P3, P4) \n",
        "#\n",
        "S1.contains(P3) "
      ],
      "metadata": {
        "colab": {
          "base_uri": "https://localhost:8080/"
        },
        "id": "aw4qhlNMVhFc",
        "outputId": "3051c92b-d27f-493a-cff0-fea5e83fc956"
      },
      "execution_count": 31,
      "outputs": [
        {
          "output_type": "execute_result",
          "data": {
            "text/plain": [
              "False"
            ]
          },
          "metadata": {},
          "execution_count": 31
        }
      ]
    },
    {
      "cell_type": "code",
      "source": [
        "from sympy.geometry import * \n",
        "P1 = Point(0, 0) \n",
        "P2 = Point(3, 4) \n",
        "P3 = Point(2, -1) \n",
        "P4 = Point(-1, 5)\n",
        "# \n",
        "S1 = Segment(P1, P2)\n",
        "S2 = Segment(P3, P4) \n",
        "#\n",
        "L1 = Line(P1, P2) \n",
        "L1.equation()  "
      ],
      "metadata": {
        "colab": {
          "base_uri": "https://localhost:8080/",
          "height": 39
        },
        "id": "2jLrYMV1Vm2O",
        "outputId": "92e17d57-6e58-4adb-8fd4-e48ff02b70f9"
      },
      "execution_count": 32,
      "outputs": [
        {
          "output_type": "execute_result",
          "data": {
            "text/latex": "$\\displaystyle - 4 x + 3 y$",
            "text/plain": [
              "-4*x + 3*y"
            ]
          },
          "metadata": {},
          "execution_count": 32
        }
      ]
    },
    {
      "cell_type": "code",
      "source": [
        "from sympy.geometry import * \n",
        "P1 = Point(0, 0) \n",
        "P2 = Point(3, 4) \n",
        "P3 = Point(2, -1) \n",
        "P4 = Point(-1, 5)\n",
        "# \n",
        "S1 = Segment(P1, P2)\n",
        "S2 = Segment(P3, P4) \n",
        "#\n",
        "L1 = Line(P1, P2) \n",
        "L1.is_parallel(S1)"
      ],
      "metadata": {
        "colab": {
          "base_uri": "https://localhost:8080/"
        },
        "id": "41-JD63ZVzwj",
        "outputId": "12474254-05be-439c-e212-b381738831c4"
      },
      "execution_count": 33,
      "outputs": [
        {
          "output_type": "execute_result",
          "data": {
            "text/plain": [
              "True"
            ]
          },
          "metadata": {},
          "execution_count": 33
        }
      ]
    },
    {
      "cell_type": "code",
      "source": [
        "from sympy.geometry import * \n",
        "P1 = Point(0, 0) \n",
        "P2 = Point(3, 4) \n",
        "P3 = Point(2, -1) \n",
        "P4 = Point(-1, 5)\n",
        "# \n",
        "S1 = Segment(P1, P2)\n",
        "S2 = Segment(P3, P4) \n",
        "#\n",
        "L1 = Line(P1, P2) \n",
        "L1.is_parallel(S2)"
      ],
      "metadata": {
        "colab": {
          "base_uri": "https://localhost:8080/"
        },
        "id": "FwujutlZV8z1",
        "outputId": "ca0af165-1bed-4113-a06b-430aa17164b0"
      },
      "execution_count": 34,
      "outputs": [
        {
          "output_type": "execute_result",
          "data": {
            "text/plain": [
              "False"
            ]
          },
          "metadata": {},
          "execution_count": 34
        }
      ]
    },
    {
      "cell_type": "markdown",
      "source": [
        "bài 8"
      ],
      "metadata": {
        "id": "O-s-WyXBWBY3"
      }
    },
    {
      "cell_type": "code",
      "source": [
        "import sympy \n",
        "from sympy import * \n",
        "x = Symbol('x') \n",
        "f = x * sin(1/x) \n",
        "c = Symbol('c') \n",
        "delta = Symbol('delta') \n",
        "c = 0 \n",
        "delta = 1/4 \n",
        "sympy.plot(f,(x, c - delta, c + delta))"
      ],
      "metadata": {
        "colab": {
          "base_uri": "https://localhost:8080/",
          "height": 315
        },
        "id": "Z0rpQZCyWEIY",
        "outputId": "e499745d-49ca-4e1c-e8b2-211fa6a7f573"
      },
      "execution_count": 36,
      "outputs": [
        {
          "output_type": "display_data",
          "data": {
            "image/png": "[encoded data removed]",
            "text/plain": [
              "<Figure size 432x288 with 1 Axes>"
            ]
          },
          "metadata": {
            "needs_background": "light"
          }
        },
        {
          "output_type": "execute_result",
          "data": {
            "text/plain": [
              "<sympy.plotting.plot.Plot at 0x7f3db453cc50>"
            ]
          },
          "metadata": {},
          "execution_count": 36
        }
      ]
    },
    {
      "cell_type": "code",
      "source": [
        "import sympy \n",
        "from sympy import * \n",
        "x = Symbol('x') \n",
        "f = x * sin(1/x) \n",
        "c = Symbol('c') \n",
        "delta = Symbol('delta') \n",
        "c = 0 \n",
        "delta = 1/4 \n",
        "sympy.plot(f, abs(x), -abs(x),(x, c - delta, c + delta))"
      ],
      "metadata": {
        "colab": {
          "base_uri": "https://localhost:8080/",
          "height": 315
        },
        "id": "dqDUpfAaW3ve",
        "outputId": "1c5c6b6d-f285-443e-93fb-5bfca5220ffc"
      },
      "execution_count": 38,
      "outputs": [
        {
          "output_type": "display_data",
          "data": {
            "image/png": "[encoded data removed]",
            "text/plain": [
              "<Figure size 432x288 with 1 Axes>"
            ]
          },
          "metadata": {
            "needs_background": "light"
          }
        },
        {
          "output_type": "execute_result",
          "data": {
            "text/plain": [
              "<sympy.plotting.plot.Plot at 0x7f3db1f92bd0>"
            ]
          },
          "metadata": {},
          "execution_count": 38
        }
      ]
    },
    {
      "cell_type": "markdown",
      "source": [
        "bài 9"
      ],
      "metadata": {
        "id": "6ZL3I3_9XX1P"
      }
    },
    {
      "cell_type": "code",
      "source": [
        " from sympy import Symbol, solve, Derivative \n",
        "x = Symbol('x') \n",
        "f = -x**2+4*x-3\n",
        "d1=Derivative(f, x).doit()\n",
        "cuctri = solve(d1)\n",
        "print(cuctri)\n",
        "A = cuctri[0] \n",
        "d2 = Derivative(d1, x).doit() \n",
        "d2.subs({x:A}).evalf() \n",
        "x_min=0\n",
        "x_max=4\n",
        "f.subs({x:A}).evalf()"
      ],
      "metadata": {
        "colab": {
          "base_uri": "https://localhost:8080/",
          "height": 55
        },
        "id": "FyvQwSb3XY1b",
        "outputId": "a0dcf95f-10ac-466f-cf88-c9ae335da0a9"
      },
      "execution_count": 43,
      "outputs": [
        {
          "output_type": "stream",
          "name": "stdout",
          "text": [
            "[2]\n"
          ]
        },
        {
          "output_type": "execute_result",
          "data": {
            "text/latex": "$\\displaystyle 1.0$",
            "text/plain": [
              "1.00000000000000"
            ]
          },
          "metadata": {},
          "execution_count": 43
        }
      ]
    },
    {
      "cell_type": "markdown",
      "source": [
        ""
      ],
      "metadata": {
        "id": "bfOXebsGYERV"
      }
    },
    {
      "cell_type": "markdown",
      "source": [
        "bài 10"
      ],
      "metadata": {
        "id": "dwq6xQ_dYEed"
      }
    },
    {
      "cell_type": "code",
      "source": [
        ""
      ],
      "metadata": {
        "id": "fq18aD9iYFMb"
      },
      "execution_count": null,
      "outputs": []
    }
  ]
}