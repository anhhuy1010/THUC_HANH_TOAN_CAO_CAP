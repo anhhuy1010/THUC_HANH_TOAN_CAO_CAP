{
  "nbformat": 4,
  "nbformat_minor": 0,
  "metadata": {
    "colab": {
      "name": "bai3.ipynb",
      "provenance": [],
      "authorship_tag": "ABX9TyOtm5xsLfJT7P6Ogyx3GZu4",
      "include_colab_link": true
    },
    "kernelspec": {
      "name": "python3",
      "display_name": "Python 3"
    },
    "language_info": {
      "name": "python"
    }
  },
  "cells": [
    {
      "cell_type": "markdown",
      "metadata": {
        "id": "view-in-github",
        "colab_type": "text"
      },
      "source": [
        "<a href=\"https://colab.research.google.com/github/anhhuy1010/THUC_HANH_TOAN_CAO_CAP/blob/main/bai3.ipynb\" target=\"_parent\"><img src=\"https://colab.research.google.com/assets/colab-badge.svg\" alt=\"Open In Colab\"/></a>"
      ]
    },
    {
      "cell_type": "markdown",
      "source": [
        ""
      ],
      "metadata": {
        "id": "C-v15poCYj0u"
      }
    },
    {
      "cell_type": "markdown",
      "source": [
        "bài 1\n"
      ],
      "metadata": {
        "id": "5Mzhiz2BYldD"
      }
    },
    {
      "cell_type": "code",
      "source": [
        "def luythua(x,n):\n",
        "  ketqua = 1\n",
        "  for i in range(n):\n",
        "    ketqua= ketqua*x\n",
        "  return ketqua\n"
      ],
      "metadata": {
        "id": "66NpHwDNYmnp"
      },
      "execution_count": null,
      "outputs": []
    },
    {
      "cell_type": "markdown",
      "source": [
        "bài 2"
      ],
      "metadata": {
        "id": "24x8Gu_HZX3z"
      }
    },
    {
      "cell_type": "code",
      "source": [
        "while 1 = 2"
      ],
      "metadata": {
        "colab": {
          "base_uri": "https://localhost:8080/",
          "height": 131
        },
        "id": "kYCriT5dZZA5",
        "outputId": "43b5d11a-f657-4230-cf3d-b892aae502f7"
      },
      "execution_count": null,
      "outputs": [
        {
          "output_type": "error",
          "ename": "SyntaxError",
          "evalue": "ignored",
          "traceback": [
            "\u001b[0;36m  File \u001b[0;32m\"<ipython-input-2-ff3898404e4e>\"\u001b[0;36m, line \u001b[0;32m1\u001b[0m\n\u001b[0;31m    while 1 = 2\u001b[0m\n\u001b[0m            ^\u001b[0m\n\u001b[0;31mSyntaxError\u001b[0m\u001b[0;31m:\u001b[0m invalid syntax\n"
          ]
        }
      ]
    },
    {
      "cell_type": "markdown",
      "source": [
        "bài 3\n"
      ],
      "metadata": {
        "id": "wAg-PR23Z9m_"
      }
    },
    {
      "cell_type": "code",
      "source": [
        "\n",
        "\n",
        "while True:\n",
        "  try:\n",
        "    x = int(input('vui_long_nhap_so'))\n",
        "    break\n",
        "  except:\n",
        "    print ('ngoai le ..., vui long nhap lai!')\n"
      ],
      "metadata": {
        "id": "wfi9NNRGZ_OM",
        "outputId": "75f2216e-bf12-436f-87b3-69876e14eeb6",
        "colab": {
          "base_uri": "https://localhost:8080/"
        }
      },
      "execution_count": null,
      "outputs": [
        {
          "output_type": "stream",
          "name": "stdout",
          "text": [
            "ngoai le ..., vui long nhap lai!\n",
            "ngoai le ..., vui long nhap lai!\n",
            "ngoai le ..., vui long nhap lai!\n",
            "ngoai le ..., vui long nhap lai!\n",
            "ngoai le ..., vui long nhap lai!\n"
          ]
        }
      ]
    },
    {
      "cell_type": "markdown",
      "source": [
        "bài 4"
      ],
      "metadata": {
        "id": "HYrJ-GCyeju2"
      }
    },
    {
      "cell_type": "code",
      "source": [
        "while True:\n",
        "  try:\n",
        "    x = int(input('vui lòng nhập số:'))\n",
        "  except:\n",
        "    print('số vừa nhập sai')\n",
        "  else:\n",
        "     print('số vừa nhập là:'+ str(x))\n",
        "     break\n",
        "  finally:\n",
        "     print('đã hoàn thành chương trình')     "
      ],
      "metadata": {
        "id": "M9raHWbLep0B",
        "outputId": "8b1f2174-4080-49e3-f7d3-32e2c82345a3",
        "colab": {
          "base_uri": "https://localhost:8080/"
        }
      },
      "execution_count": null,
      "outputs": [
        {
          "output_type": "stream",
          "name": "stdout",
          "text": [
            "vui lòng nhập số:sad\n",
            "số vừa nhập sai\n",
            "đã hoàn thành chương trình\n",
            "vui lòng nhập số:54\n",
            "số vừa nhập là:54\n",
            "đã hoàn thành chương trình\n"
          ]
        }
      ]
    },
    {
      "cell_type": "markdown",
      "source": [
        "bài 5"
      ],
      "metadata": {
        "id": "x-AhhjZ1f6UG"
      }
    },
    {
      "cell_type": "code",
      "source": [
        "def frange(batdau, ketthuc, buocnhay):\n",
        "  day_ketqua= [1,10,0.1]\n",
        "  while batdau < ketthuc:\n",
        "    day_ketqua.apend(batdau)\n",
        "    batdau= batdau + buocnhay\n",
        "  return day_ketqua  \n"
      ],
      "metadata": {
        "id": "UBdXbobhgB0l"
      },
      "execution_count": null,
      "outputs": []
    },
    {
      "cell_type": "markdown",
      "source": [
        "bài 6"
      ],
      "metadata": {
        "id": "6bPxqoyBiLHy"
      }
    },
    {
      "cell_type": "code",
      "source": [
        "from matplotlib import pyplot as plt \n",
        "import math\n",
        "def draw_graph(x,y):\n",
        "  plt.plot(x,y)\n",
        "  plt.xlabel('trục x')\n",
        "  plt.ylabel('trục y')\n",
        "  plt.title('đồ thị bài toán ném quả bóng')\n",
        "  def frange(start,final,interval):\n",
        "    numbers = [1,10,0.1]\n",
        "    while start < final:\n",
        "      number.append(start)\n",
        "      start= start + interval\n",
        "    return numbers\n",
        "    def draw_trajectory(u,theta):\n",
        "      g = 9.8\n",
        "      theta = math.radians(theta)\n",
        "      t_flight = 2*u*math.sin(theta)/g\n",
        "      intervals = frange(0, t_flight, 0.001)\n",
        "      x = [1,1,1]\n",
        "      y = [1,1,1]\n",
        "      for t in intervals:\n",
        "        x.append(u*math.cos(theta)*t)\n",
        "        y.append(u*math.sin(theta)*t-0.5*g*t*t)\n",
        "      draw_graph(x,y)\n",
        "if __name__=='__main__':\n",
        "        try:\n",
        "          u = float(input('nhap van toc ban dau (m/s):'))\n",
        "          theta = float(input('nhap goc bay:'))\n",
        "        except ValueError:\n",
        "          print('nhap cac gia tri sai')\n",
        "        else:\n",
        "          draw_trajectory(u,theta)\n",
        "          plt.show()\n",
        "        finally:\n",
        "            print('hoan thanh chuong trinh')\n"
      ],
      "metadata": {
        "id": "pGrPFJediNZz",
        "outputId": "10985d4f-7fb7-4950-e018-df2e5d4599e5",
        "colab": {
          "base_uri": "https://localhost:8080/",
          "height": 287
        }
      },
      "execution_count": null,
      "outputs": [
        {
          "output_type": "stream",
          "name": "stdout",
          "text": [
            "nhap van toc ban dau (m/s):5\n",
            "nhap goc bay:70\n",
            "hoan thanh chuong trinh\n"
          ]
        },
        {
          "output_type": "error",
          "ename": "NameError",
          "evalue": "ignored",
          "traceback": [
            "\u001b[0;31m---------------------------------------------------------------------------\u001b[0m",
            "\u001b[0;31mNameError\u001b[0m                                 Traceback (most recent call last)",
            "\u001b[0;32m<ipython-input-56-f63051fcba4b>\u001b[0m in \u001b[0;36m<module>\u001b[0;34m()\u001b[0m\n\u001b[1;32m     30\u001b[0m           \u001b[0mprint\u001b[0m\u001b[0;34m(\u001b[0m\u001b[0;34m'nhap cac gia tri sai'\u001b[0m\u001b[0;34m)\u001b[0m\u001b[0;34m\u001b[0m\u001b[0;34m\u001b[0m\u001b[0m\n\u001b[1;32m     31\u001b[0m         \u001b[0;32melse\u001b[0m\u001b[0;34m:\u001b[0m\u001b[0;34m\u001b[0m\u001b[0;34m\u001b[0m\u001b[0m\n\u001b[0;32m---> 32\u001b[0;31m           \u001b[0mdraw_trajectory\u001b[0m\u001b[0;34m(\u001b[0m\u001b[0mu\u001b[0m\u001b[0;34m,\u001b[0m\u001b[0mtheta\u001b[0m\u001b[0;34m)\u001b[0m\u001b[0;34m\u001b[0m\u001b[0;34m\u001b[0m\u001b[0m\n\u001b[0m\u001b[1;32m     33\u001b[0m           \u001b[0mplt\u001b[0m\u001b[0;34m.\u001b[0m\u001b[0mshow\u001b[0m\u001b[0;34m(\u001b[0m\u001b[0;34m)\u001b[0m\u001b[0;34m\u001b[0m\u001b[0;34m\u001b[0m\u001b[0m\n\u001b[1;32m     34\u001b[0m         \u001b[0;32mfinally\u001b[0m\u001b[0;34m:\u001b[0m\u001b[0;34m\u001b[0m\u001b[0;34m\u001b[0m\u001b[0m\n",
            "\u001b[0;31mNameError\u001b[0m: name 'draw_trajectory' is not defined"
          ]
        }
      ]
    },
    {
      "cell_type": "markdown",
      "source": [
        "bài 7"
      ],
      "metadata": {
        "id": "HV36PZc5q6DU"
      }
    },
    {
      "cell_type": "code",
      "source": [
        "if __name__=='__main__':\n",
        "  ds_vantoc = [20,40,60]\n",
        "  goc_bandau = 45\n",
        "  for v in ds_vantoc:\n",
        "    draw_trajectory(v,goc_bandau)"
      ],
      "metadata": {
        "id": "F5L2r-4uq7wX",
        "outputId": "eb2e760b-e513-4b33-eea5-bcff650d79d8",
        "colab": {
          "base_uri": "https://localhost:8080/",
          "height": 201
        }
      },
      "execution_count": 1,
      "outputs": [
        {
          "output_type": "error",
          "ename": "NameError",
          "evalue": "ignored",
          "traceback": [
            "\u001b[0;31m---------------------------------------------------------------------------\u001b[0m",
            "\u001b[0;31mNameError\u001b[0m                                 Traceback (most recent call last)",
            "\u001b[0;32m<ipython-input-1-dc6a3dbc0aa0>\u001b[0m in \u001b[0;36m<module>\u001b[0;34m()\u001b[0m\n\u001b[1;32m      3\u001b[0m   \u001b[0mgoc_bandau\u001b[0m \u001b[0;34m=\u001b[0m \u001b[0;36m45\u001b[0m\u001b[0;34m\u001b[0m\u001b[0;34m\u001b[0m\u001b[0m\n\u001b[1;32m      4\u001b[0m   \u001b[0;32mfor\u001b[0m \u001b[0mv\u001b[0m \u001b[0;32min\u001b[0m \u001b[0mds_vantoc\u001b[0m\u001b[0;34m:\u001b[0m\u001b[0;34m\u001b[0m\u001b[0;34m\u001b[0m\u001b[0m\n\u001b[0;32m----> 5\u001b[0;31m     \u001b[0mdraw_trajectory\u001b[0m\u001b[0;34m(\u001b[0m\u001b[0mv\u001b[0m\u001b[0;34m,\u001b[0m\u001b[0mgoc_bandau\u001b[0m\u001b[0;34m)\u001b[0m\u001b[0;34m\u001b[0m\u001b[0;34m\u001b[0m\u001b[0m\n\u001b[0m",
            "\u001b[0;31mNameError\u001b[0m: name 'draw_trajectory' is not defined"
          ]
        }
      ]
    },
    {
      "cell_type": "markdown",
      "source": [
        "bài 8"
      ],
      "metadata": {
        "id": "4_LK-lFfPMfC"
      }
    },
    {
      "cell_type": "code",
      "source": [
        "from sympy import Symbol, Derivative, sympify, pprint\n",
        "def tinh_daoham(ham_f,bien)\n",
        "bien = Symbol(bien)\n",
        "d = Derivative(ham_f, bien).doit()\n",
        "pprint(d)\n"
      ],
      "metadata": {
        "id": "YNBWK6aRPOGz",
        "outputId": "da99ae3a-b283-4add-dbd3-167067ef98e0",
        "colab": {
          "base_uri": "https://localhost:8080/",
          "height": 131
        }
      },
      "execution_count": 9,
      "outputs": [
        {
          "output_type": "error",
          "ename": "SyntaxError",
          "evalue": "ignored",
          "traceback": [
            "\u001b[0;36m  File \u001b[0;32m\"<ipython-input-9-898831043698>\"\u001b[0;36m, line \u001b[0;32m2\u001b[0m\n\u001b[0;31m    def tinh_daoham('x**3+x**2+x','x')\u001b[0m\n\u001b[0m                                ^\u001b[0m\n\u001b[0;31mSyntaxError\u001b[0m\u001b[0;31m:\u001b[0m invalid syntax\n"
          ]
        }
      ]
    }
  ]
}