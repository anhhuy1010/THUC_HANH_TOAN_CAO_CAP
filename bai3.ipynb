{
  "nbformat": 4,
  "nbformat_minor": 0,
  "metadata": {
    "colab": {
      "name": "bai3.ipynb",
      "provenance": [],
      "authorship_tag": "ABX9TyNFwztZkF9sq8Cc5jlz9o5C",
      "include_colab_link": true
    },
    "kernelspec": {
      "name": "python3",
      "display_name": "Python 3"
    },
    "language_info": {
      "name": "python"
    }
  },
  "cells": [
    {
      "cell_type": "markdown",
      "metadata": {
        "id": "view-in-github",
        "colab_type": "text"
      },
      "source": [
        "<a href=\"https://colab.research.google.com/github/anhhuy1010/THUC_HANH_TOAN_CAO_CAP/blob/main/bai3.ipynb\" target=\"_parent\"><img src=\"https://colab.research.google.com/assets/colab-badge.svg\" alt=\"Open In Colab\"/></a>"
      ]
    },
    {
      "cell_type": "markdown",
      "source": [
        ""
      ],
      "metadata": {
        "id": "C-v15poCYj0u"
      }
    },
    {
      "cell_type": "markdown",
      "source": [
        "bài 1\n"
      ],
      "metadata": {
        "id": "5Mzhiz2BYldD"
      }
    },
    {
      "cell_type": "code",
      "source": [
        "def luythua(x,n):\n",
        "  ketqua = 1\n",
        "  for i in range(n):\n",
        "    ketqua= ketqua*x\n",
        "  return ketqua\n"
      ],
      "metadata": {
        "id": "66NpHwDNYmnp"
      },
      "execution_count": 23,
      "outputs": []
    },
    {
      "cell_type": "markdown",
      "source": [
        "bài 2"
      ],
      "metadata": {
        "id": "24x8Gu_HZX3z"
      }
    },
    {
      "cell_type": "code",
      "source": [
        "while 1 = 2"
      ],
      "metadata": {
        "colab": {
          "base_uri": "https://localhost:8080/",
          "height": 131
        },
        "id": "kYCriT5dZZA5",
        "outputId": "382d7e3e-0848-4732-baa7-e639dbc17cad"
      },
      "execution_count": 22,
      "outputs": [
        {
          "output_type": "error",
          "ename": "SyntaxError",
          "evalue": "ignored",
          "traceback": [
            "\u001b[0;36m  File \u001b[0;32m\"<ipython-input-22-ff3898404e4e>\"\u001b[0;36m, line \u001b[0;32m1\u001b[0m\n\u001b[0;31m    while 1 = 2\u001b[0m\n\u001b[0m            ^\u001b[0m\n\u001b[0;31mSyntaxError\u001b[0m\u001b[0;31m:\u001b[0m invalid syntax\n"
          ]
        }
      ]
    },
    {
      "cell_type": "markdown",
      "source": [
        "bài 3\n"
      ],
      "metadata": {
        "id": "wAg-PR23Z9m_"
      }
    },
    {
      "cell_type": "code",
      "source": [
        "\n",
        "\n",
        "while True:\n",
        "  try:\n",
        "    x = int(input('vui_long_nhap_so'))\n",
        "    break\n",
        "  except:\n",
        "    print ('ngoai le ..., vui long nhap lai!')\n"
      ],
      "metadata": {
        "id": "wfi9NNRGZ_OM"
      },
      "execution_count": null,
      "outputs": []
    },
    {
      "cell_type": "markdown",
      "source": [
        "bài 4"
      ],
      "metadata": {
        "id": "HYrJ-GCyeju2"
      }
    },
    {
      "cell_type": "code",
      "source": [
        "while True:\n",
        "  try:\n",
        "    x = int(input('vui lòng nhập số:'))\n",
        "  except:\n",
        "    print('số vừa nhập sai')\n",
        "  else:\n",
        "     print('số vừa nhập là:'+ str(x))\n",
        "     break\n",
        "  finally:\n",
        "     print('đã hoàn thành chương trình')     "
      ],
      "metadata": {
        "id": "M9raHWbLep0B"
      },
      "execution_count": null,
      "outputs": []
    },
    {
      "cell_type": "markdown",
      "source": [
        "bài 5"
      ],
      "metadata": {
        "id": "x-AhhjZ1f6UG"
      }
    },
    {
      "cell_type": "code",
      "source": [
        "def frange(batdau, ketthuc, buocnhay):\n",
        "  day_ketqua= [1,10,0.1]\n",
        "  while batdau < ketthuc:\n",
        "    day_ketqua.apend(batdau)\n",
        "    batdau= batdau + buocnhay\n",
        "  return day_ketqua  \n"
      ],
      "metadata": {
        "id": "UBdXbobhgB0l"
      },
      "execution_count": null,
      "outputs": []
    },
    {
      "cell_type": "markdown",
      "source": [
        "bài 6"
      ],
      "metadata": {
        "id": "6bPxqoyBiLHy"
      }
    },
    {
      "cell_type": "code",
      "source": [
        "from matplotlib import pyplot as plt \n",
        "import math\n",
        "def draw_graph(x,y):\n",
        "  plt.plot(x,y)\n",
        "  plt.xlabel('trục x')\n",
        "  plt.ylabel('trục y')\n",
        "  plt.title('đồ thị bài toán ném quả bóng')\n",
        "  def frange(start,final,interval):\n",
        "    numbers = [1,10,0.1]\n",
        "    while start < final:\n",
        "      number.append(start)\n",
        "      start= start + interval\n",
        "    return numbers\n",
        "    def draw_trajectory(u,theta):\n",
        "      g = 9.8\n",
        "      theta = math.radians(theta)\n",
        "      t_flight = 2*u*math.sin(theta)/g\n",
        "      intervals = frange(0, t_flight, 0.001)\n",
        "      x = [1,1,1]\n",
        "      y = [1,1,1]\n",
        "      for t in intervals:\n",
        "        x.append(u*math.cos(theta)*t)\n",
        "        y.append(u*math.sin(theta)*t-0.5*g*t*t)\n",
        "      draw_graph(x,y)\n",
        "if __name__=='__main__':\n",
        "        try:\n",
        "          u = float(input('nhap van toc ban dau (m/s):'))\n",
        "          theta = float(input('nhap goc bay:'))\n",
        "        except ValueError:\n",
        "          print('nhap cac gia tri sai')\n",
        "        else:\n",
        "          draw_trajectory(u,theta)\n",
        "          plt.show()\n",
        "        finally:\n",
        "            print('hoan thanh chuong trinh')\n"
      ],
      "metadata": {
        "id": "pGrPFJediNZz"
      },
      "execution_count": null,
      "outputs": []
    },
    {
      "cell_type": "markdown",
      "source": [
        "bài 7"
      ],
      "metadata": {
        "id": "HV36PZc5q6DU"
      }
    },
    {
      "cell_type": "code",
      "source": [
        "if __name__=='__main__':\n",
        "  ds_vantoc = [20,40,60]\n",
        "  goc_bandau = 45\n",
        "  for v in ds_vantoc:\n",
        "    draw_trajectory(v,goc_bandau)"
      ],
      "metadata": {
        "id": "F5L2r-4uq7wX"
      },
      "execution_count": null,
      "outputs": []
    },
    {
      "cell_type": "markdown",
      "source": [
        "bài 8"
      ],
      "metadata": {
        "id": "4_LK-lFfPMfC"
      }
    },
    {
      "cell_type": "code",
      "source": [
        "from sympy import Symbol, Derivative, sympify, pprint\n",
        "def tinh_daoham(ham_f,bien):\n",
        "bien = Symbol('bien')\n",
        "d = Derivative(ham_f, bien).doit()\n",
        "pprint(d)\n"
      ],
      "metadata": {
        "id": "YNBWK6aRPOGz"
      },
      "execution_count": null,
      "outputs": []
    },
    {
      "cell_type": "markdown",
      "source": [
        "bài 9"
      ],
      "metadata": {
        "id": "lzPX0KdqTx-o"
      }
    },
    {
      "cell_type": "code",
      "source": [
        "import math\n",
        "from sympy import Derivative, Symbol, sin\n",
        "def grad_ascent(x0,f1x,x):\n",
        "  epsilon = 1e-6\n",
        "  step_size = 1e-4\n",
        "  x_cu = x0\n",
        "  x_moi = x_cu + step_size * f1x.subs({x:x_cu}).evalf()\n",
        "  while abs(x_cu-x_moi)>epsilon:\n",
        "    x_cu = x_moi\n",
        "    x_moi = x_cu + step_size * f1x.subs({x:x_cu}).evalf()\n",
        "    return x_moi \n",
        "def tim_max_theta(R,theta):\n",
        "  R1theta= Derivative(R,theta).doit()\n",
        "  theta_0= 1e-3\n",
        "  theta_max = grad_ascent(theta_0,R1theta,theta)\n",
        "  return theta_max\n",
        "g = 9.8\n",
        "u = 30\n",
        "theta = Symbol('theta')\n",
        "R = (u**2)*sin(2*theta)/g\n",
        "\n",
        "theta_max = tim_max_theta(R,theta)\n",
        "print('goc theta:{0}'.format(math.degrees(theta_max)))\n"
      ],
      "metadata": {
        "id": "-Xvl3PaRUIDK"
      },
      "execution_count": null,
      "outputs": []
    }
  ]
}