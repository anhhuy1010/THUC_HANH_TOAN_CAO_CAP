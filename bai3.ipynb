{
  "nbformat": 4,
  "nbformat_minor": 0,
  "metadata": {
    "colab": {
      "name": "bai3.ipynb",
      "provenance": [],
      "authorship_tag": "ABX9TyOgh8SxY6+Huw5oHq5yklFQ",
      "include_colab_link": true
    },
    "kernelspec": {
      "name": "python3",
      "display_name": "Python 3"
    },
    "language_info": {
      "name": "python"
    }
  },
  "cells": [
    {
      "cell_type": "markdown",
      "metadata": {
        "id": "view-in-github",
        "colab_type": "text"
      },
      "source": [
        "<a href=\"https://colab.research.google.com/github/anhhuy1010/THUC_HANH_TOAN_CAO_CAP/blob/main/bai3.ipynb\" target=\"_parent\"><img src=\"https://colab.research.google.com/assets/colab-badge.svg\" alt=\"Open In Colab\"/></a>"
      ]
    },
    {
      "cell_type": "markdown",
      "source": [
        ""
      ],
      "metadata": {
        "id": "C-v15poCYj0u"
      }
    },
    {
      "cell_type": "markdown",
      "source": [
        "bài 1\n"
      ],
      "metadata": {
        "id": "5Mzhiz2BYldD"
      }
    },
    {
      "cell_type": "code",
      "source": [
        "def luythua(x,n):\n",
        "  ketqua = 1\n",
        "  for i in range(n):\n",
        "    ketqua= ketqua*x\n",
        "  return ketqua\n",
        "  luythua(2,0)  "
      ],
      "metadata": {
        "id": "66NpHwDNYmnp"
      },
      "execution_count": 9,
      "outputs": []
    },
    {
      "cell_type": "markdown",
      "source": [
        "bài 2"
      ],
      "metadata": {
        "id": "24x8Gu_HZX3z"
      }
    },
    {
      "cell_type": "code",
      "source": [
        "while 1 = 2"
      ],
      "metadata": {
        "colab": {
          "base_uri": "https://localhost:8080/",
          "height": 131
        },
        "id": "kYCriT5dZZA5",
        "outputId": "4e72a289-bfe8-466f-b70d-e9be9b937766"
      },
      "execution_count": 13,
      "outputs": [
        {
          "output_type": "error",
          "ename": "SyntaxError",
          "evalue": "ignored",
          "traceback": [
            "\u001b[0;36m  File \u001b[0;32m\"<ipython-input-13-ff3898404e4e>\"\u001b[0;36m, line \u001b[0;32m1\u001b[0m\n\u001b[0;31m    while 1 = 2\u001b[0m\n\u001b[0m            ^\u001b[0m\n\u001b[0;31mSyntaxError\u001b[0m\u001b[0;31m:\u001b[0m invalid syntax\n"
          ]
        }
      ]
    },
    {
      "cell_type": "markdown",
      "source": [
        "bài 3\n"
      ],
      "metadata": {
        "id": "wAg-PR23Z9m_"
      }
    },
    {
      "cell_type": "code",
      "source": [
        "#x = int(input('vui_long_nhap_so'))\n",
        "while True:\n",
        "  try:\n",
        "    x = int(input('vui_long_nhap_so'))\n",
        "    break\n",
        "  except:\n",
        "    print ('ngoai le ..., vui long nhap lai!')\n"
      ],
      "metadata": {
        "colab": {
          "base_uri": "https://localhost:8080/"
        },
        "id": "wfi9NNRGZ_OM",
        "outputId": "2898916a-7f19-48f6-cf22-d973a5fdf0d1"
      },
      "execution_count": 18,
      "outputs": [
        {
          "name": "stdout",
          "output_type": "stream",
          "text": [
            "vui_long_nhap_sohello\n",
            "ngoai le ..., vui long nhap lai!\n",
            "vui_long_nhap_sodung choi game trong gio hoc\n",
            "ngoai le ..., vui long nhap lai!\n",
            "vui_long_nhap_so6\n"
          ]
        }
      ]
    }
  ]
}