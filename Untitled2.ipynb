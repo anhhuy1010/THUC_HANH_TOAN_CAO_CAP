{
  "nbformat": 4,
  "nbformat_minor": 0,
  "metadata": {
    "colab": {
      "name": "Untitled2.ipynb",
      "provenance": [],
      "authorship_tag": "ABX9TyPe688H17LXm5aOUbilKviz",
      "include_colab_link": true
    },
    "kernelspec": {
      "name": "python3",
      "display_name": "Python 3"
    },
    "language_info": {
      "name": "python"
    }
  },
  "cells": [
    {
      "cell_type": "markdown",
      "metadata": {
        "id": "view-in-github",
        "colab_type": "text"
      },
      "source": [
        "<a href=\"https://colab.research.google.com/github/anhhuy1010/THUC_HANH_TOAN_CAO_CAP/blob/main/Untitled2.ipynb\" target=\"_parent\"><img src=\"https://colab.research.google.com/assets/colab-badge.svg\" alt=\"Open In Colab\"/></a>"
      ]
    },
    {
      "cell_type": "markdown",
      "source": [
        "===================bài 1============================"
      ],
      "metadata": {
        "id": "PR8xCuHPRblR"
      }
    },
    {
      "cell_type": "code",
      "source": [
        "chuoitinhtoan = \"a*b+c\"\n",
        "a = 2\n",
        "b = 5\n",
        "c = 8\n",
        "eval(chuoitinhtoan)"
      ],
      "metadata": {
        "id": "klL4Uk-fRhpg"
      },
      "execution_count": null,
      "outputs": []
    }
  ]
}