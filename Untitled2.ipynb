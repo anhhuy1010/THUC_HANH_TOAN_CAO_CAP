{
  "nbformat": 4,
  "nbformat_minor": 0,
  "metadata": {
    "colab": {
      "name": "Untitled2.ipynb",
      "provenance": [],
      "authorship_tag": "ABX9TyOqMvGvjm4g2xG2RAwVtCVH",
      "include_colab_link": true
    },
    "kernelspec": {
      "name": "python3",
      "display_name": "Python 3"
    },
    "language_info": {
      "name": "python"
    }
  },
  "cells": [
    {
      "cell_type": "markdown",
      "metadata": {
        "id": "view-in-github",
        "colab_type": "text"
      },
      "source": [
        "<a href=\"https://colab.research.google.com/github/anhhuy1010/THUC_HANH_TOAN_CAO_CAP/blob/main/Untitled2.ipynb\" target=\"_parent\"><img src=\"https://colab.research.google.com/assets/colab-badge.svg\" alt=\"Open In Colab\"/></a>"
      ]
    },
    {
      "cell_type": "markdown",
      "source": [
        "===================bài 1============================"
      ],
      "metadata": {
        "id": "PR8xCuHPRblR"
      }
    },
    {
      "cell_type": "code",
      "source": [
        "chuoitinhtoan = \"a*b+c\"\n",
        "a = 2\n",
        "b = 5\n",
        "c = 8\n",
        "eval(chuoitinhtoan)"
      ],
      "metadata": {
        "colab": {
          "base_uri": "https://localhost:8080/"
        },
        "id": "klL4Uk-fRhpg",
        "outputId": "f5a493db-37c0-4f4d-9cd6-f7625d49d192"
      },
      "execution_count": null,
      "outputs": [
        {
          "output_type": "execute_result",
          "data": {
            "text/plain": [
              "18"
            ]
          },
          "metadata": {},
          "execution_count": 1
        }
      ]
    },
    {
      "cell_type": "code",
      "source": [
        "from sympy import Symbol\n",
        "x = Symbol('x')\n",
        "y = Symbol('y')\n",
        "u = Symbol('u')\n",
        "v = Symbol('v')\n",
        "bieuthuc = x+y\n",
        "bieuthuc_theo_uv = bieuthuc.subs({x:u,y:v})\n"
      ],
      "metadata": {
        "id": "vvYg8WX6In_1"
      },
      "execution_count": null,
      "outputs": []
    },
    {
      "cell_type": "markdown",
      "source": [
        "======================bài 2==============================="
      ],
      "metadata": {
        "id": "0fnRVEB5SQYW"
      }
    },
    {
      "cell_type": "code",
      "source": [
        "from sympy import Symbol\n",
        "x = Symbol('x') \n",
        "y = Symbol('y')\n",
        "bieuthuc = x+y\n",
        "thaytheso = bieuthuc.subs({x:10, y:5})\n",
        "thaytheso"
      ],
      "metadata": {
        "colab": {
          "base_uri": "https://localhost:8080/",
          "height": 37
        },
        "id": "Lr_RKN7ISTWn",
        "outputId": "ee4fe234-af0f-4fea-a3ff-142539e38609"
      },
      "execution_count": null,
      "outputs": [
        {
          "output_type": "execute_result",
          "data": {
            "text/latex": "$\\displaystyle 15$",
            "text/plain": [
              "15"
            ]
          },
          "metadata": {},
          "execution_count": 2
        }
      ]
    },
    {
      "cell_type": "markdown",
      "source": [
        "====================Bài 3 =================================="
      ],
      "metadata": {
        "id": "ZVIl-zK9SVYW"
      }
    },
    {
      "cell_type": "code",
      "source": [
        "danhsach_so = [10, 15, 20] \n",
        "danhsach_so[0] \n",
        "danhsach_so[1]\n",
        "danhsach_so[2]"
      ],
      "metadata": {
        "colab": {
          "base_uri": "https://localhost:8080/"
        },
        "id": "JKwhX52GSXkI",
        "outputId": "d1ff3fba-b4b0-4a00-aabc-3b0e127e97d0"
      },
      "execution_count": null,
      "outputs": [
        {
          "output_type": "execute_result",
          "data": {
            "text/plain": [
              "20"
            ]
          },
          "metadata": {},
          "execution_count": 3
        }
      ]
    },
    {
      "cell_type": "markdown",
      "source": [
        "====================Bài 4====================================="
      ],
      "metadata": {
        "id": "BhbeQtuTSatJ"
      }
    },
    {
      "cell_type": "code",
      "source": [
        "ds = [1, 2, 3]\n",
        "for so in ds:\n",
        "  print(so)"
      ],
      "metadata": {
        "colab": {
          "base_uri": "https://localhost:8080/"
        },
        "id": "jVG3-6t7Scs7",
        "outputId": "3c3ac541-53c2-4b62-9132-816b1f39a9d4"
      },
      "execution_count": null,
      "outputs": [
        {
          "output_type": "stream",
          "name": "stdout",
          "text": [
            "1\n",
            "2\n",
            "3\n"
          ]
        }
      ]
    },
    {
      "cell_type": "code",
      "source": [
        "ds = [10,11,12]\n",
        "for chiso, giatri in enumerate(ds):\n",
        "  print(chiso,giatri)"
      ],
      "metadata": {
        "id": "hA3V58vAJ9JO",
        "outputId": "28c6d522-6dfb-4551-9c38-5897e12abdeb",
        "colab": {
          "base_uri": "https://localhost:8080/"
        }
      },
      "execution_count": null,
      "outputs": [
        {
          "output_type": "stream",
          "name": "stdout",
          "text": [
            "0 10\n",
            "1 11\n",
            "2 12\n"
          ]
        }
      ]
    },
    {
      "cell_type": "markdown",
      "source": [
        "==============================Bài 5==============================="
      ],
      "metadata": {
        "id": "XLzT09I5Sffd"
      }
    },
    {
      "cell_type": "code",
      "source": [
        "x_numbers = [1, 6, 8]\n",
        "y_numbers = [2, 5, 9] \n",
        "from pylab import plot, show\n",
        "plot(x_numbers, y_numbers)"
      ],
      "metadata": {
        "colab": {
          "base_uri": "https://localhost:8080/",
          "height": 283
        },
        "id": "BzZkgIcESiKj",
        "outputId": "5d8560ba-f8dd-4428-e58f-07deda8de27b"
      },
      "execution_count": null,
      "outputs": [
        {
          "output_type": "execute_result",
          "data": {
            "text/plain": [
              "[<matplotlib.lines.Line2D at 0x7f5c87f99390>]"
            ]
          },
          "metadata": {},
          "execution_count": 5
        },
        {
          "output_type": "display_data",
          "data": {
            "image/png": "[encoded data removed]",
            "text/plain": [
              "<Figure size 432x288 with 1 Axes>"
            ]
          },
          "metadata": {
            "needs_background": "light"
          }
        }
      ]
    },
    {
      "cell_type": "markdown",
      "source": [
        "=====================================Bài 6=============================="
      ],
      "metadata": {
        "id": "10fzDeGZSlCE"
      }
    },
    {
      "cell_type": "code",
      "source": [
        "plot(x_numbers, y_numbers, marker = 'o') \n",
        "show()"
      ],
      "metadata": {
        "colab": {
          "base_uri": "https://localhost:8080/",
          "height": 265
        },
        "id": "U_jwwKwFSqNb",
        "outputId": "fa030aa4-de0d-4828-9789-12965d228533"
      },
      "execution_count": null,
      "outputs": [
        {
          "output_type": "display_data",
          "data": {
            "image/png": "[encoded data removed]",
            "text/plain": [
              "<Figure size 432x288 with 1 Axes>"
            ]
          },
          "metadata": {
            "needs_background": "light"
          }
        }
      ]
    },
    {
      "cell_type": "markdown",
      "source": [
        "=========================Bài 7====================================="
      ],
      "metadata": {
        "id": "CQwqHf6_SteA"
      }
    },
    {
      "cell_type": "code",
      "source": [
        "hcm_rain = [13.8, 4.1, 10.5, 50.4, 218.4, 311.7, 293.7, 269.8, 327.1, 266.7, 116.5, 48.3]\n",
        "months = range(1, 13)\n",
        "plot(months, hcm_rain, marker = 'o')\n",
        "show()"
      ],
      "metadata": {
        "colab": {
          "base_uri": "https://localhost:8080/",
          "height": 265
        },
        "id": "UPNDEOuVSwHN",
        "outputId": "c72d3244-9146-4dd6-930c-defc54809882"
      },
      "execution_count": null,
      "outputs": [
        {
          "output_type": "display_data",
          "data": {
            "image/png": "[encoded data removed]",
            "text/plain": [
              "<Figure size 432x288 with 1 Axes>"
            ]
          },
          "metadata": {
            "needs_background": "light"
          }
        }
      ]
    },
    {
      "cell_type": "markdown",
      "source": [
        "===============================Bài 8================================"
      ],
      "metadata": {
        "id": "il5EXj69SyHP"
      }
    },
    {
      "cell_type": "code",
      "source": [
        "from sympy import Symbol, Derivative\n",
        "t = Symbol('t')\n",
        "st = 5*t**2 + 2*t + 8\n",
        "Derivative(st, t)"
      ],
      "metadata": {
        "colab": {
          "base_uri": "https://localhost:8080/",
          "height": 52
        },
        "id": "9dUGvy2zS1ZN",
        "outputId": "47c152d7-a71b-4baa-b498-c3b823520756"
      },
      "execution_count": null,
      "outputs": [
        {
          "output_type": "execute_result",
          "data": {
            "text/latex": "$\\displaystyle \\frac{d}{d t} \\left(5 t^{2} + 2 t + 8\\right)$",
            "text/plain": [
              "Derivative(5*t**2 + 2*t + 8, t)"
            ]
          },
          "metadata": {},
          "execution_count": 8
        }
      ]
    },
    {
      "cell_type": "markdown",
      "source": [
        "=======================Bài 9========================================="
      ],
      "metadata": {
        "id": "oKqp_3BCS4ic"
      }
    },
    {
      "cell_type": "code",
      "source": [
        "from sympy import Derivative, Symbol\n",
        "x = Symbol('x')\n",
        "f = (x**3+x**2+x)*(x**2+x)\n",
        "Derivative(f, x).doit()"
      ],
      "metadata": {
        "colab": {
          "base_uri": "https://localhost:8080/",
          "height": 39
        },
        "id": "dDUDbbm6S6kF",
        "outputId": "c07d565e-65b3-4fd2-d4f7-df764c960880"
      },
      "execution_count": null,
      "outputs": [
        {
          "output_type": "execute_result",
          "data": {
            "text/latex": "$\\displaystyle \\left(2 x + 1\\right) \\left(x^{3} + x^{2} + x\\right) + \\left(x^{2} + x\\right) \\left(3 x^{2} + 2 x + 1\\right)$",
            "text/plain": [
              "(2*x + 1)*(x**3 + x**2 + x) + (x**2 + x)*(3*x**2 + 2*x + 1)"
            ]
          },
          "metadata": {},
          "execution_count": 9
        }
      ]
    },
    {
      "cell_type": "markdown",
      "source": [
        "=====================Bài 10==============================="
      ],
      "metadata": {
        "id": "9QdwYlNJS8gM"
      }
    },
    {
      "cell_type": "code",
      "source": [
        "from sympy import Derivative, Symbol\n",
        "import sympy\n",
        "x = Symbol('x')\n",
        "f = sympy.sin(2*x) \n",
        "Derivative(f, x).doit()"
      ],
      "metadata": {
        "colab": {
          "base_uri": "https://localhost:8080/",
          "height": 39
        },
        "id": "DR0G9KboS-63",
        "outputId": "51cec4fe-f1c6-4c04-ec35-3a8402eedb29"
      },
      "execution_count": null,
      "outputs": [
        {
          "output_type": "execute_result",
          "data": {
            "text/latex": "$\\displaystyle 2 \\cos{\\left(2 x \\right)}$",
            "text/plain": [
              "2*cos(2*x)"
            ]
          },
          "metadata": {},
          "execution_count": 10
        }
      ]
    },
    {
      "cell_type": "code",
      "source": [
        "from sympy import Derivative, Symbol\n",
        "import sympy\n",
        "x = Symbol('x')\n",
        "f = sympy.sin(x)*sympy.cos(x)\n",
        "Derivative(f, x).doit()"
      ],
      "metadata": {
        "colab": {
          "base_uri": "https://localhost:8080/",
          "height": 39
        },
        "id": "1sXmO3uFTD-N",
        "outputId": "8a80a66f-1c54-4d8f-d0ce-8b7490f328f6"
      },
      "execution_count": null,
      "outputs": [
        {
          "output_type": "execute_result",
          "data": {
            "text/latex": "$\\displaystyle - \\sin^{2}{\\left(x \\right)} + \\cos^{2}{\\left(x \\right)}$",
            "text/plain": [
              "-sin(x)**2 + cos(x)**2"
            ]
          },
          "metadata": {},
          "execution_count": 11
        }
      ]
    },
    {
      "cell_type": "markdown",
      "source": [
        "====================Bài 11 ==============================="
      ],
      "metadata": {
        "id": "pJKMU1MNTGXn"
      }
    },
    {
      "cell_type": "code",
      "source": [
        "from sympy import Symbol, solve, Derivative \n",
        "x = Symbol('x') \n",
        "f = x**5-30*x**3+50*x \n",
        "d1 = Derivative(f, x).doit() \n",
        "cuctri = solve(d1)\n",
        "A = cuctri[0] \n",
        "A = cuctri[2] \n",
        "B = cuctri[0]\n",
        "C = cuctri[1] \n",
        "D = cuctri[3] \n",
        "d2 = Derivative(d1, x, 2).doit()\n",
        "d2.subs({x:B}).evalf()"
      ],
      "metadata": {
        "colab": {
          "base_uri": "https://localhost:8080/",
          "height": 37
        },
        "id": "XHP11t1FTJTW",
        "outputId": "45d83c68-b184-48bd-dbf0-771a4a98623d"
      },
      "execution_count": null,
      "outputs": [
        {
          "output_type": "execute_result",
          "data": {
            "text/latex": "$\\displaystyle -145.568986390582$",
            "text/plain": [
              "-145.568986390582"
            ]
          },
          "metadata": {},
          "execution_count": 12
        }
      ]
    },
    {
      "cell_type": "code",
      "source": [
        "d2.subs({x:C}).evalf()"
      ],
      "metadata": {
        "colab": {
          "base_uri": "https://localhost:8080/",
          "height": 37
        },
        "id": "5WIZLQi6TNB1",
        "outputId": "44f24032-7db6-44fc-d29f-9be1b7093269"
      },
      "execution_count": null,
      "outputs": [
        {
          "output_type": "execute_result",
          "data": {
            "text/latex": "$\\displaystyle -145.568986390582$",
            "text/plain": [
              "-145.568986390582"
            ]
          },
          "metadata": {},
          "execution_count": 13
        }
      ]
    },
    {
      "cell_type": "code",
      "source": [
        "\n",
        "d2.subs({x:A}).evalf()"
      ],
      "metadata": {
        "id": "oGiT6qAKTNx_",
        "outputId": "61621668-0512-496d-9598-d07c68e8cacb",
        "colab": {
          "base_uri": "https://localhost:8080/",
          "height": 37
        }
      },
      "execution_count": null,
      "outputs": [
        {
          "output_type": "execute_result",
          "data": {
            "text/latex": "$\\displaystyle 865.568986390581$",
            "text/plain": [
              "865.568986390581"
            ]
          },
          "metadata": {},
          "execution_count": 14
        }
      ]
    },
    {
      "cell_type": "code",
      "source": [
        "d2.subs({x:D}).evalf()"
      ],
      "metadata": {
        "colab": {
          "base_uri": "https://localhost:8080/",
          "height": 37
        },
        "id": "mXsd2X0XTTdF",
        "outputId": "f9982778-f35e-4cd1-b03a-fd274b3d364d"
      },
      "execution_count": null,
      "outputs": [
        {
          "output_type": "execute_result",
          "data": {
            "text/latex": "$\\displaystyle 865.568986390581$",
            "text/plain": [
              "865.568986390581"
            ]
          },
          "metadata": {},
          "execution_count": 15
        }
      ]
    },
    {
      "cell_type": "markdown",
      "source": [
        "**BÀI TẬP VỀ NHÀ**"
      ],
      "metadata": {
        "id": "mG5p3WPZMqJQ"
      }
    },
    {
      "cell_type": "markdown",
      "source": [
        "--------------------------------------------------------------------------------------------------"
      ],
      "metadata": {
        "id": "eY_ION9_k1WG"
      }
    },
    {
      "cell_type": "markdown",
      "source": [
        "BIỂU ĐỒ SỐ NGÀY MƯA TRUNG BÌNH HẰNG THÁNG"
      ],
      "metadata": {
        "id": "GcLyY3mkMwHa"
      }
    },
    {
      "cell_type": "code",
      "source": [
        "\n",
        "x_thang = [1,2,3,4,5,6,7,8,9,10,11,12]\n",
        "y_luongmua = [2.4,1.0,1.9,5.4,17.8,19.0,22.9,22.4,23.1,20.9,12.1,6.7]\n",
        "from pylab import plot, show\n",
        "plot(x_thang, y_luongmua, marker='o')\n",
        "show()"
      ],
      "metadata": {
        "id": "cO_XX41LM4_v",
        "outputId": "3efdd136-b14b-46a9-f14f-6fa416c80f38",
        "colab": {
          "base_uri": "https://localhost:8080/",
          "height": 265
        }
      },
      "execution_count": 50,
      "outputs": [
        {
          "output_type": "display_data",
          "data": {
            "image/png": "[encoded data removed]",
            "text/plain": [
              "<Figure size 432x288 with 1 Axes>"
            ]
          },
          "metadata": {
            "needs_background": "light"
          }
        }
      ]
    },
    {
      "cell_type": "markdown",
      "source": [
        "BIỂU ĐỒ SỐ GIỜ NẮNG TRUNG BÌNH HẰNG THÁNG"
      ],
      "metadata": {
        "id": "VKRgvLLljukW"
      }
    },
    {
      "cell_type": "code",
      "source": [
        "x_thang = [1,2,3,4,5,6,7,8,9,10,11,12]\n",
        "y_gionang = [245,246,272,239,195,171,180,172,162,182,200,226]\n",
        "from pylab import plot, show\n",
        "plot(x_thang, y_gionang, marker='o')"
      ],
      "metadata": {
        "id": "EZNbE7qTkDM5",
        "outputId": "16f6763e-e0d7-4055-926b-688fdf1c6fb2",
        "colab": {
          "base_uri": "https://localhost:8080/",
          "height": 283
        }
      },
      "execution_count": 51,
      "outputs": [
        {
          "output_type": "execute_result",
          "data": {
            "text/plain": [
              "[<matplotlib.lines.Line2D at 0x7f5c82af6250>]"
            ]
          },
          "metadata": {},
          "execution_count": 51
        },
        {
          "output_type": "display_data",
          "data": {
            "image/png": "[encoded data removed]",
            "text/plain": [
              "<Figure size 432x288 with 1 Axes>"
            ]
          },
          "metadata": {
            "needs_background": "light"
          }
        }
      ]
    }
  ]
}